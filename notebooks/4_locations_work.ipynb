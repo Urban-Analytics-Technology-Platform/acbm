{
 "cells": [
  {
   "cell_type": "markdown",
   "metadata": {},
   "source": [
    "# Adding Work Location to individuals\n",
    "\n",
    "Assigning individuals to work locations\n",
    "\n",
    "We follow the steps outlined in this [github issue](https://github.com/Urban-Analytics-Technology-Platform/acbm/issues/12)"
   ]
  },
  {
   "cell_type": "code",
   "execution_count": 2,
   "metadata": {
    "metadata": {}
   },
   "outputs": [],
   "source": [
    "import logging\n",
    "import pickle as pkl\n",
    "\n",
    "import geopandas as gpd\n",
    "import matplotlib.pyplot as plt\n",
    "import numpy as np\n",
    "import pandas as pd\n",
    "import seaborn as sns\n",
    "from shapely.geometry import Point\n",
    "\n",
    "from acbm.assigning import (\n",
    "    fill_missing_zones,\n",
    "    filter_matrix_to_boundary,\n",
    "    get_activities_per_zone,\n",
    "    get_possible_zones,\n",
    "    intrazone_time,\n",
    "    replace_intrazonal_travel_time,\n",
    "    select_activity,\n",
    "    select_zone,\n",
    "    zones_to_time_matrix,\n",
    ")"
   ]
  },
  {
   "cell_type": "markdown",
   "metadata": {},
   "source": [
    "## Load in the data\n"
   ]
  },
  {
   "cell_type": "markdown",
   "metadata": {},
   "source": [
    "### Activity chains"
   ]
  },
  {
   "cell_type": "code",
   "execution_count": 3,
   "metadata": {
    "metadata": {}
   },
   "outputs": [
    {
     "data": {
      "text/html": [
       "<div>\n",
       "<style scoped>\n",
       "    .dataframe tbody tr th:only-of-type {\n",
       "        vertical-align: middle;\n",
       "    }\n",
       "\n",
       "    .dataframe tbody tr th {\n",
       "        vertical-align: top;\n",
       "    }\n",
       "\n",
       "    .dataframe thead th {\n",
       "        text-align: right;\n",
       "    }\n",
       "</style>\n",
       "<table border=\"1\" class=\"dataframe\">\n",
       "  <thead>\n",
       "    <tr style=\"text-align: right;\">\n",
       "      <th></th>\n",
       "      <th>id</th>\n",
       "      <th>household</th>\n",
       "      <th>location</th>\n",
       "      <th>pid_hs</th>\n",
       "      <th>msoa</th>\n",
       "      <th>oa</th>\n",
       "      <th>members</th>\n",
       "      <th>sic1d2007</th>\n",
       "      <th>sic2d2007</th>\n",
       "      <th>pwkstat</th>\n",
       "      <th>...</th>\n",
       "      <th>TripStart</th>\n",
       "      <th>TripEnd</th>\n",
       "      <th>TripDisIncSW</th>\n",
       "      <th>TripDisExSW</th>\n",
       "      <th>TripTotalTime</th>\n",
       "      <th>TripTravTime</th>\n",
       "      <th>TripOrigGOR_B02ID</th>\n",
       "      <th>TripDestGOR_B02ID</th>\n",
       "      <th>W5</th>\n",
       "      <th>W5xHH</th>\n",
       "    </tr>\n",
       "  </thead>\n",
       "  <tbody>\n",
       "    <tr>\n",
       "      <th>0</th>\n",
       "      <td>1193050</td>\n",
       "      <td>479338</td>\n",
       "      <td>{'x': -1.3864760398864746, 'y': 53.94084167480...</td>\n",
       "      <td>2910658</td>\n",
       "      <td>E02002330</td>\n",
       "      <td>E00059012</td>\n",
       "      <td>[1193050, 1193051]</td>\n",
       "      <td>Q</td>\n",
       "      <td>86.0</td>\n",
       "      <td>1</td>\n",
       "      <td>...</td>\n",
       "      <td>330.0</td>\n",
       "      <td>345.0</td>\n",
       "      <td>10.0</td>\n",
       "      <td>10.0</td>\n",
       "      <td>15.0</td>\n",
       "      <td>15.0</td>\n",
       "      <td>8.0</td>\n",
       "      <td>8.0</td>\n",
       "      <td>0.680422</td>\n",
       "      <td>1.000000</td>\n",
       "    </tr>\n",
       "    <tr>\n",
       "      <th>1</th>\n",
       "      <td>1193050</td>\n",
       "      <td>479338</td>\n",
       "      <td>{'x': -1.3864760398864746, 'y': 53.94084167480...</td>\n",
       "      <td>2910658</td>\n",
       "      <td>E02002330</td>\n",
       "      <td>E00059012</td>\n",
       "      <td>[1193050, 1193051]</td>\n",
       "      <td>Q</td>\n",
       "      <td>86.0</td>\n",
       "      <td>1</td>\n",
       "      <td>...</td>\n",
       "      <td>885.0</td>\n",
       "      <td>900.0</td>\n",
       "      <td>10.0</td>\n",
       "      <td>10.0</td>\n",
       "      <td>15.0</td>\n",
       "      <td>15.0</td>\n",
       "      <td>8.0</td>\n",
       "      <td>8.0</td>\n",
       "      <td>0.680422</td>\n",
       "      <td>1.000000</td>\n",
       "    </tr>\n",
       "    <tr>\n",
       "      <th>2</th>\n",
       "      <td>1193050</td>\n",
       "      <td>479338</td>\n",
       "      <td>{'x': -1.3864760398864746, 'y': 53.94084167480...</td>\n",
       "      <td>2910658</td>\n",
       "      <td>E02002330</td>\n",
       "      <td>E00059012</td>\n",
       "      <td>[1193050, 1193051]</td>\n",
       "      <td>Q</td>\n",
       "      <td>86.0</td>\n",
       "      <td>1</td>\n",
       "      <td>...</td>\n",
       "      <td>330.0</td>\n",
       "      <td>345.0</td>\n",
       "      <td>10.0</td>\n",
       "      <td>10.0</td>\n",
       "      <td>15.0</td>\n",
       "      <td>15.0</td>\n",
       "      <td>8.0</td>\n",
       "      <td>8.0</td>\n",
       "      <td>0.727735</td>\n",
       "      <td>1.069535</td>\n",
       "    </tr>\n",
       "    <tr>\n",
       "      <th>3</th>\n",
       "      <td>1193050</td>\n",
       "      <td>479338</td>\n",
       "      <td>{'x': -1.3864760398864746, 'y': 53.94084167480...</td>\n",
       "      <td>2910658</td>\n",
       "      <td>E02002330</td>\n",
       "      <td>E00059012</td>\n",
       "      <td>[1193050, 1193051]</td>\n",
       "      <td>Q</td>\n",
       "      <td>86.0</td>\n",
       "      <td>1</td>\n",
       "      <td>...</td>\n",
       "      <td>795.0</td>\n",
       "      <td>810.0</td>\n",
       "      <td>10.0</td>\n",
       "      <td>10.0</td>\n",
       "      <td>15.0</td>\n",
       "      <td>15.0</td>\n",
       "      <td>8.0</td>\n",
       "      <td>8.0</td>\n",
       "      <td>0.727735</td>\n",
       "      <td>1.069535</td>\n",
       "    </tr>\n",
       "    <tr>\n",
       "      <th>4</th>\n",
       "      <td>1193050</td>\n",
       "      <td>479338</td>\n",
       "      <td>{'x': -1.3864760398864746, 'y': 53.94084167480...</td>\n",
       "      <td>2910658</td>\n",
       "      <td>E02002330</td>\n",
       "      <td>E00059012</td>\n",
       "      <td>[1193050, 1193051]</td>\n",
       "      <td>Q</td>\n",
       "      <td>86.0</td>\n",
       "      <td>1</td>\n",
       "      <td>...</td>\n",
       "      <td>480.0</td>\n",
       "      <td>540.0</td>\n",
       "      <td>10.0</td>\n",
       "      <td>10.0</td>\n",
       "      <td>60.0</td>\n",
       "      <td>60.0</td>\n",
       "      <td>8.0</td>\n",
       "      <td>8.0</td>\n",
       "      <td>0.758707</td>\n",
       "      <td>1.115053</td>\n",
       "    </tr>\n",
       "    <tr>\n",
       "      <th>5</th>\n",
       "      <td>1193050</td>\n",
       "      <td>479338</td>\n",
       "      <td>{'x': -1.3864760398864746, 'y': 53.94084167480...</td>\n",
       "      <td>2910658</td>\n",
       "      <td>E02002330</td>\n",
       "      <td>E00059012</td>\n",
       "      <td>[1193050, 1193051]</td>\n",
       "      <td>Q</td>\n",
       "      <td>86.0</td>\n",
       "      <td>1</td>\n",
       "      <td>...</td>\n",
       "      <td>540.0</td>\n",
       "      <td>600.0</td>\n",
       "      <td>10.0</td>\n",
       "      <td>10.0</td>\n",
       "      <td>60.0</td>\n",
       "      <td>60.0</td>\n",
       "      <td>8.0</td>\n",
       "      <td>8.0</td>\n",
       "      <td>0.758707</td>\n",
       "      <td>1.115053</td>\n",
       "    </tr>\n",
       "    <tr>\n",
       "      <th>6</th>\n",
       "      <td>1193050</td>\n",
       "      <td>479338</td>\n",
       "      <td>{'x': -1.3864760398864746, 'y': 53.94084167480...</td>\n",
       "      <td>2910658</td>\n",
       "      <td>E02002330</td>\n",
       "      <td>E00059012</td>\n",
       "      <td>[1193050, 1193051]</td>\n",
       "      <td>Q</td>\n",
       "      <td>86.0</td>\n",
       "      <td>1</td>\n",
       "      <td>...</td>\n",
       "      <td>720.0</td>\n",
       "      <td>750.0</td>\n",
       "      <td>1.5</td>\n",
       "      <td>1.5</td>\n",
       "      <td>30.0</td>\n",
       "      <td>30.0</td>\n",
       "      <td>8.0</td>\n",
       "      <td>8.0</td>\n",
       "      <td>0.758707</td>\n",
       "      <td>1.115053</td>\n",
       "    </tr>\n",
       "    <tr>\n",
       "      <th>7</th>\n",
       "      <td>1193050</td>\n",
       "      <td>479338</td>\n",
       "      <td>{'x': -1.3864760398864746, 'y': 53.94084167480...</td>\n",
       "      <td>2910658</td>\n",
       "      <td>E02002330</td>\n",
       "      <td>E00059012</td>\n",
       "      <td>[1193050, 1193051]</td>\n",
       "      <td>Q</td>\n",
       "      <td>86.0</td>\n",
       "      <td>1</td>\n",
       "      <td>...</td>\n",
       "      <td>750.0</td>\n",
       "      <td>780.0</td>\n",
       "      <td>1.5</td>\n",
       "      <td>1.5</td>\n",
       "      <td>30.0</td>\n",
       "      <td>30.0</td>\n",
       "      <td>8.0</td>\n",
       "      <td>8.0</td>\n",
       "      <td>0.758707</td>\n",
       "      <td>1.115053</td>\n",
       "    </tr>\n",
       "    <tr>\n",
       "      <th>8</th>\n",
       "      <td>1193050</td>\n",
       "      <td>479338</td>\n",
       "      <td>{'x': -1.3864760398864746, 'y': 53.94084167480...</td>\n",
       "      <td>2910658</td>\n",
       "      <td>E02002330</td>\n",
       "      <td>E00059012</td>\n",
       "      <td>[1193050, 1193051]</td>\n",
       "      <td>Q</td>\n",
       "      <td>86.0</td>\n",
       "      <td>1</td>\n",
       "      <td>...</td>\n",
       "      <td>900.0</td>\n",
       "      <td>910.0</td>\n",
       "      <td>4.0</td>\n",
       "      <td>4.0</td>\n",
       "      <td>10.0</td>\n",
       "      <td>10.0</td>\n",
       "      <td>8.0</td>\n",
       "      <td>8.0</td>\n",
       "      <td>0.765863</td>\n",
       "      <td>1.125570</td>\n",
       "    </tr>\n",
       "    <tr>\n",
       "      <th>9</th>\n",
       "      <td>1193050</td>\n",
       "      <td>479338</td>\n",
       "      <td>{'x': -1.3864760398864746, 'y': 53.94084167480...</td>\n",
       "      <td>2910658</td>\n",
       "      <td>E02002330</td>\n",
       "      <td>E00059012</td>\n",
       "      <td>[1193050, 1193051]</td>\n",
       "      <td>Q</td>\n",
       "      <td>86.0</td>\n",
       "      <td>1</td>\n",
       "      <td>...</td>\n",
       "      <td>960.0</td>\n",
       "      <td>970.0</td>\n",
       "      <td>4.0</td>\n",
       "      <td>4.0</td>\n",
       "      <td>10.0</td>\n",
       "      <td>10.0</td>\n",
       "      <td>8.0</td>\n",
       "      <td>8.0</td>\n",
       "      <td>0.765863</td>\n",
       "      <td>1.125570</td>\n",
       "    </tr>\n",
       "  </tbody>\n",
       "</table>\n",
       "<p>10 rows × 71 columns</p>\n",
       "</div>"
      ],
      "text/plain": [
       "        id  household                                           location  \\\n",
       "0  1193050     479338  {'x': -1.3864760398864746, 'y': 53.94084167480...   \n",
       "1  1193050     479338  {'x': -1.3864760398864746, 'y': 53.94084167480...   \n",
       "2  1193050     479338  {'x': -1.3864760398864746, 'y': 53.94084167480...   \n",
       "3  1193050     479338  {'x': -1.3864760398864746, 'y': 53.94084167480...   \n",
       "4  1193050     479338  {'x': -1.3864760398864746, 'y': 53.94084167480...   \n",
       "5  1193050     479338  {'x': -1.3864760398864746, 'y': 53.94084167480...   \n",
       "6  1193050     479338  {'x': -1.3864760398864746, 'y': 53.94084167480...   \n",
       "7  1193050     479338  {'x': -1.3864760398864746, 'y': 53.94084167480...   \n",
       "8  1193050     479338  {'x': -1.3864760398864746, 'y': 53.94084167480...   \n",
       "9  1193050     479338  {'x': -1.3864760398864746, 'y': 53.94084167480...   \n",
       "\n",
       "    pid_hs       msoa         oa             members sic1d2007  sic2d2007  \\\n",
       "0  2910658  E02002330  E00059012  [1193050, 1193051]         Q       86.0   \n",
       "1  2910658  E02002330  E00059012  [1193050, 1193051]         Q       86.0   \n",
       "2  2910658  E02002330  E00059012  [1193050, 1193051]         Q       86.0   \n",
       "3  2910658  E02002330  E00059012  [1193050, 1193051]         Q       86.0   \n",
       "4  2910658  E02002330  E00059012  [1193050, 1193051]         Q       86.0   \n",
       "5  2910658  E02002330  E00059012  [1193050, 1193051]         Q       86.0   \n",
       "6  2910658  E02002330  E00059012  [1193050, 1193051]         Q       86.0   \n",
       "7  2910658  E02002330  E00059012  [1193050, 1193051]         Q       86.0   \n",
       "8  2910658  E02002330  E00059012  [1193050, 1193051]         Q       86.0   \n",
       "9  2910658  E02002330  E00059012  [1193050, 1193051]         Q       86.0   \n",
       "\n",
       "   pwkstat  ...  TripStart  TripEnd TripDisIncSW  TripDisExSW  TripTotalTime  \\\n",
       "0        1  ...      330.0    345.0         10.0         10.0           15.0   \n",
       "1        1  ...      885.0    900.0         10.0         10.0           15.0   \n",
       "2        1  ...      330.0    345.0         10.0         10.0           15.0   \n",
       "3        1  ...      795.0    810.0         10.0         10.0           15.0   \n",
       "4        1  ...      480.0    540.0         10.0         10.0           60.0   \n",
       "5        1  ...      540.0    600.0         10.0         10.0           60.0   \n",
       "6        1  ...      720.0    750.0          1.5          1.5           30.0   \n",
       "7        1  ...      750.0    780.0          1.5          1.5           30.0   \n",
       "8        1  ...      900.0    910.0          4.0          4.0           10.0   \n",
       "9        1  ...      960.0    970.0          4.0          4.0           10.0   \n",
       "\n",
       "   TripTravTime  TripOrigGOR_B02ID  TripDestGOR_B02ID        W5     W5xHH  \n",
       "0          15.0                8.0                8.0  0.680422  1.000000  \n",
       "1          15.0                8.0                8.0  0.680422  1.000000  \n",
       "2          15.0                8.0                8.0  0.727735  1.069535  \n",
       "3          15.0                8.0                8.0  0.727735  1.069535  \n",
       "4          60.0                8.0                8.0  0.758707  1.115053  \n",
       "5          60.0                8.0                8.0  0.758707  1.115053  \n",
       "6          30.0                8.0                8.0  0.758707  1.115053  \n",
       "7          30.0                8.0                8.0  0.758707  1.115053  \n",
       "8          10.0                8.0                8.0  0.765863  1.125570  \n",
       "9          10.0                8.0                8.0  0.765863  1.125570  \n",
       "\n",
       "[10 rows x 71 columns]"
      ]
     },
     "execution_count": 3,
     "metadata": {},
     "output_type": "execute_result"
    }
   ],
   "source": [
    "# read parquet file\n",
    "activity_chains = pd.read_parquet('../data/interim/matching/spc_with_nts_trips.parquet')\n",
    "activity_chains.head(10)"
   ]
  },
  {
   "cell_type": "markdown",
   "metadata": {},
   "source": [
    "#### Data preparation: Mapping trip purposes\n",
    "\n",
    "Rename columns and map actual modes and trip purposes to the trip table. \n",
    "\n",
    "Code taken from: https://github.com/arup-group/pam/blob/main/examples/07_travel_survey_to_matsim.ipynb"
   ]
  },
  {
   "cell_type": "code",
   "execution_count": 4,
   "metadata": {
    "metadata": {}
   },
   "outputs": [],
   "source": [
    "activity_chains = activity_chains.rename(\n",
    "    columns={  # rename data\n",
    "        \"JourSeq\": \"seq\",\n",
    "        \"TripOrigGOR_B02ID\": \"ozone\",\n",
    "        \"TripDestGOR_B02ID\": \"dzone\",\n",
    "        \"TripPurpFrom_B01ID\": \"oact\",\n",
    "        \"TripPurpTo_B01ID\": \"dact\",\n",
    "        \"MainMode_B04ID\": \"mode\",\n",
    "        \"TripStart\": \"tst\",\n",
    "        \"TripEnd\": \"tet\",\n",
    "    }\n",
    ")"
   ]
  },
  {
   "cell_type": "markdown",
   "metadata": {},
   "source": [
    "Check the NTS glossary [here](https://www.gov.uk/government/statistics/national-travel-survey-2022-technical-report/national-travel-survey-2022-technical-report-glossary) to understand what the trip purposes mean."
   ]
  },
  {
   "cell_type": "markdown",
   "metadata": {},
   "source": [
    "add an escort column"
   ]
  },
  {
   "cell_type": "code",
   "execution_count": 5,
   "metadata": {
    "metadata": {}
   },
   "outputs": [],
   "source": [
    "mode_mapping = {\n",
    "    1: \"walk\",\n",
    "    2: \"cycle\",\n",
    "    3: \"car\",  #'Car/van driver'\n",
    "    4: \"car\",  #'Car/van driver'\n",
    "    5: \"car\",  #'Motorcycle',\n",
    "    6: \"car\",  #'Other private transport',\n",
    "    7: \"pt\",  # Bus in London',\n",
    "    8: \"pt\",  #'Other local bus',\n",
    "    9: \"pt\",  #'Non-local bus',\n",
    "    10: \"pt\",  #'London Underground',\n",
    "    11: \"pt\",  #'Surface Rail',\n",
    "    12: \"car\",  #'Taxi/minicab',\n",
    "    13: \"pt\",  #'Other public transport',\n",
    "    -10: \"DEAD\",\n",
    "    -8: \"NA\",\n",
    "}\n",
    "\n",
    "purp_mapping = {\n",
    "    1: \"work\",\n",
    "    2: \"work\",  #'In course of work',\n",
    "    3: \"education\",\n",
    "    4: \"shop_food\",  #'Food shopping',\n",
    "    5: \"shop_other\",  #'Non food shopping',\n",
    "    6: \"medical\",  #'Personal business medical',\n",
    "    7: \"other_eat_drink\",  #'Personal business eat/drink',\n",
    "    8: \"other\",  #'Personal business other',\n",
    "    9: \"other_eat_drink\",  #'Eat/drink with friends',\n",
    "    10: \"visit\",  #'Visit friends',\n",
    "    11: \"other_social\",  #'Other social',\n",
    "    12: \"other\",  #'Entertain/ public activity',\n",
    "    13: \"other_sport\",  #'Sport: participate',\n",
    "    14: \"home\",  #'Holiday: base',\n",
    "    15: \"other\",  #'Day trip/just walk',\n",
    "    16: \"other\",  #'Other non-escort',\n",
    "    17: \"escort_home\",  #'Escort home',\n",
    "    18: \"escort_work\",  #'Escort work',\n",
    "    19: \"escort_work\",  #'Escort in course of work',\n",
    "    20: \"escort_education\",  #'Escort education',\n",
    "    21: \"escort_shopping\",  #'Escort shopping/personal business',\n",
    "    22: \"escort\",  #'Other escort',\n",
    "    23: \"home\",  #'Home',\n",
    "    -10: \"DEAD\",\n",
    "    -8: \"NA\",\n",
    "}\n",
    "\n",
    "\n",
    "activity_chains[\"mode\"] = activity_chains[\"mode\"].map(mode_mapping)\n",
    "\n",
    "activity_chains[\"oact\"] = activity_chains[\"oact\"].map(purp_mapping)\n",
    "\n",
    "activity_chains[\"dact\"] = activity_chains[\"dact\"].map(purp_mapping)"
   ]
  },
  {
   "cell_type": "markdown",
   "metadata": {},
   "source": [
    "### Study area boundaries"
   ]
  },
  {
   "cell_type": "code",
   "execution_count": 6,
   "metadata": {
    "metadata": {}
   },
   "outputs": [
    {
     "data": {
      "text/html": [
       "<div>\n",
       "<style scoped>\n",
       "    .dataframe tbody tr th:only-of-type {\n",
       "        vertical-align: middle;\n",
       "    }\n",
       "\n",
       "    .dataframe tbody tr th {\n",
       "        vertical-align: top;\n",
       "    }\n",
       "\n",
       "    .dataframe thead th {\n",
       "        text-align: right;\n",
       "    }\n",
       "</style>\n",
       "<table border=\"1\" class=\"dataframe\">\n",
       "  <thead>\n",
       "    <tr style=\"text-align: right;\">\n",
       "      <th></th>\n",
       "      <th>OBJECTID</th>\n",
       "      <th>OA21CD</th>\n",
       "      <th>GlobalID</th>\n",
       "      <th>LSOA21CD</th>\n",
       "      <th>LSOA21NM</th>\n",
       "      <th>MSOA21CD</th>\n",
       "      <th>MSOA21NM</th>\n",
       "      <th>LEP22CD1</th>\n",
       "      <th>LEP22NM1</th>\n",
       "      <th>LAD22CD</th>\n",
       "      <th>LAD22NM</th>\n",
       "      <th>rgn22cd</th>\n",
       "      <th>rgn22nm</th>\n",
       "      <th>ctry22cd</th>\n",
       "      <th>ctry22nm</th>\n",
       "      <th>geometry</th>\n",
       "    </tr>\n",
       "  </thead>\n",
       "  <tbody>\n",
       "    <tr>\n",
       "      <th>0</th>\n",
       "      <td>1</td>\n",
       "      <td>E00000001</td>\n",
       "      <td>bc5eb21b-d42b-4715-a771-2c27575a08f0</td>\n",
       "      <td>E01000001</td>\n",
       "      <td>City of London 001A</td>\n",
       "      <td>E02000001</td>\n",
       "      <td>City of London 001</td>\n",
       "      <td>E37000051</td>\n",
       "      <td>The London Economic Action Partnership</td>\n",
       "      <td>E09000001</td>\n",
       "      <td>City of London</td>\n",
       "      <td>E12000007</td>\n",
       "      <td>London</td>\n",
       "      <td>E92000001</td>\n",
       "      <td>England</td>\n",
       "      <td>MULTIPOLYGON (((532303.492 181814.110, 532213....</td>\n",
       "    </tr>\n",
       "    <tr>\n",
       "      <th>1</th>\n",
       "      <td>2</td>\n",
       "      <td>E00000003</td>\n",
       "      <td>a1a2b34f-320e-4bb8-acb4-7ca7ca16ef9c</td>\n",
       "      <td>E01000001</td>\n",
       "      <td>City of London 001A</td>\n",
       "      <td>E02000001</td>\n",
       "      <td>City of London 001</td>\n",
       "      <td>E37000051</td>\n",
       "      <td>The London Economic Action Partnership</td>\n",
       "      <td>E09000001</td>\n",
       "      <td>City of London</td>\n",
       "      <td>E12000007</td>\n",
       "      <td>London</td>\n",
       "      <td>E92000001</td>\n",
       "      <td>England</td>\n",
       "      <td>MULTIPOLYGON (((532213.378 181846.192, 532190....</td>\n",
       "    </tr>\n",
       "    <tr>\n",
       "      <th>2</th>\n",
       "      <td>3</td>\n",
       "      <td>E00000005</td>\n",
       "      <td>9337da1a-fe0f-4210-9c95-ed2d20fd6287</td>\n",
       "      <td>E01000001</td>\n",
       "      <td>City of London 001A</td>\n",
       "      <td>E02000001</td>\n",
       "      <td>City of London 001</td>\n",
       "      <td>E37000051</td>\n",
       "      <td>The London Economic Action Partnership</td>\n",
       "      <td>E09000001</td>\n",
       "      <td>City of London</td>\n",
       "      <td>E12000007</td>\n",
       "      <td>London</td>\n",
       "      <td>E92000001</td>\n",
       "      <td>England</td>\n",
       "      <td>MULTIPOLYGON (((532180.131 181763.020, 532219....</td>\n",
       "    </tr>\n",
       "    <tr>\n",
       "      <th>3</th>\n",
       "      <td>4</td>\n",
       "      <td>E00000007</td>\n",
       "      <td>b336e11f-af26-48a6-ac67-44f5b8b8840a</td>\n",
       "      <td>E01000001</td>\n",
       "      <td>City of London 001A</td>\n",
       "      <td>E02000001</td>\n",
       "      <td>City of London 001</td>\n",
       "      <td>E37000051</td>\n",
       "      <td>The London Economic Action Partnership</td>\n",
       "      <td>E09000001</td>\n",
       "      <td>City of London</td>\n",
       "      <td>E12000007</td>\n",
       "      <td>London</td>\n",
       "      <td>E92000001</td>\n",
       "      <td>England</td>\n",
       "      <td>MULTIPOLYGON (((532201.292 181668.180, 532267....</td>\n",
       "    </tr>\n",
       "    <tr>\n",
       "      <th>4</th>\n",
       "      <td>5</td>\n",
       "      <td>E00000010</td>\n",
       "      <td>ca8f9874-cdf5-4c1a-9d39-f74a410dae44</td>\n",
       "      <td>E01000003</td>\n",
       "      <td>City of London 001C</td>\n",
       "      <td>E02000001</td>\n",
       "      <td>City of London 001</td>\n",
       "      <td>E37000051</td>\n",
       "      <td>The London Economic Action Partnership</td>\n",
       "      <td>E09000001</td>\n",
       "      <td>City of London</td>\n",
       "      <td>E12000007</td>\n",
       "      <td>London</td>\n",
       "      <td>E92000001</td>\n",
       "      <td>England</td>\n",
       "      <td>MULTIPOLYGON (((532127.958 182133.192, 532089....</td>\n",
       "    </tr>\n",
       "    <tr>\n",
       "      <th>5</th>\n",
       "      <td>6</td>\n",
       "      <td>E00000013</td>\n",
       "      <td>b9b93246-bbfb-46af-8011-6b8ed5908956</td>\n",
       "      <td>E01000003</td>\n",
       "      <td>City of London 001C</td>\n",
       "      <td>E02000001</td>\n",
       "      <td>City of London 001</td>\n",
       "      <td>E37000051</td>\n",
       "      <td>The London Economic Action Partnership</td>\n",
       "      <td>E09000001</td>\n",
       "      <td>City of London</td>\n",
       "      <td>E12000007</td>\n",
       "      <td>London</td>\n",
       "      <td>E92000001</td>\n",
       "      <td>England</td>\n",
       "      <td>MULTIPOLYGON (((532247.654 181897.577, 532248....</td>\n",
       "    </tr>\n",
       "    <tr>\n",
       "      <th>6</th>\n",
       "      <td>7</td>\n",
       "      <td>E00000018</td>\n",
       "      <td>fcb7c232-4165-44da-8ff8-b6cc383b528a</td>\n",
       "      <td>E01000002</td>\n",
       "      <td>City of London 001B</td>\n",
       "      <td>E02000001</td>\n",
       "      <td>City of London 001</td>\n",
       "      <td>E37000051</td>\n",
       "      <td>The London Economic Action Partnership</td>\n",
       "      <td>E09000001</td>\n",
       "      <td>City of London</td>\n",
       "      <td>E12000007</td>\n",
       "      <td>London</td>\n",
       "      <td>E92000001</td>\n",
       "      <td>England</td>\n",
       "      <td>MULTIPOLYGON (((532440.197 181842.934, 532544....</td>\n",
       "    </tr>\n",
       "    <tr>\n",
       "      <th>7</th>\n",
       "      <td>8</td>\n",
       "      <td>E00000019</td>\n",
       "      <td>715e0851-2375-4d6a-94ac-532ba0833c60</td>\n",
       "      <td>E01000002</td>\n",
       "      <td>City of London 001B</td>\n",
       "      <td>E02000001</td>\n",
       "      <td>City of London 001</td>\n",
       "      <td>E37000051</td>\n",
       "      <td>The London Economic Action Partnership</td>\n",
       "      <td>E09000001</td>\n",
       "      <td>City of London</td>\n",
       "      <td>E12000007</td>\n",
       "      <td>London</td>\n",
       "      <td>E92000001</td>\n",
       "      <td>England</td>\n",
       "      <td>MULTIPOLYGON (((532619.141 181847.188, 532603....</td>\n",
       "    </tr>\n",
       "    <tr>\n",
       "      <th>8</th>\n",
       "      <td>9</td>\n",
       "      <td>E00000020</td>\n",
       "      <td>4251a2ff-8fbe-4c11-aece-044f23ab9af2</td>\n",
       "      <td>E01000002</td>\n",
       "      <td>City of London 001B</td>\n",
       "      <td>E02000001</td>\n",
       "      <td>City of London 001</td>\n",
       "      <td>E37000051</td>\n",
       "      <td>The London Economic Action Partnership</td>\n",
       "      <td>E09000001</td>\n",
       "      <td>City of London</td>\n",
       "      <td>E12000007</td>\n",
       "      <td>London</td>\n",
       "      <td>E92000001</td>\n",
       "      <td>England</td>\n",
       "      <td>MULTIPOLYGON (((532515.000 181686.981, 532544....</td>\n",
       "    </tr>\n",
       "    <tr>\n",
       "      <th>9</th>\n",
       "      <td>10</td>\n",
       "      <td>E00000021</td>\n",
       "      <td>48b2df49-45ed-48a4-b7fc-e0e32c1ad088</td>\n",
       "      <td>E01000002</td>\n",
       "      <td>City of London 001B</td>\n",
       "      <td>E02000001</td>\n",
       "      <td>City of London 001</td>\n",
       "      <td>E37000051</td>\n",
       "      <td>The London Economic Action Partnership</td>\n",
       "      <td>E09000001</td>\n",
       "      <td>City of London</td>\n",
       "      <td>E12000007</td>\n",
       "      <td>London</td>\n",
       "      <td>E92000001</td>\n",
       "      <td>England</td>\n",
       "      <td>MULTIPOLYGON (((532746.813 181786.891, 532671....</td>\n",
       "    </tr>\n",
       "  </tbody>\n",
       "</table>\n",
       "</div>"
      ],
      "text/plain": [
       "   OBJECTID     OA21CD                              GlobalID   LSOA21CD  \\\n",
       "0         1  E00000001  bc5eb21b-d42b-4715-a771-2c27575a08f0  E01000001   \n",
       "1         2  E00000003  a1a2b34f-320e-4bb8-acb4-7ca7ca16ef9c  E01000001   \n",
       "2         3  E00000005  9337da1a-fe0f-4210-9c95-ed2d20fd6287  E01000001   \n",
       "3         4  E00000007  b336e11f-af26-48a6-ac67-44f5b8b8840a  E01000001   \n",
       "4         5  E00000010  ca8f9874-cdf5-4c1a-9d39-f74a410dae44  E01000003   \n",
       "5         6  E00000013  b9b93246-bbfb-46af-8011-6b8ed5908956  E01000003   \n",
       "6         7  E00000018  fcb7c232-4165-44da-8ff8-b6cc383b528a  E01000002   \n",
       "7         8  E00000019  715e0851-2375-4d6a-94ac-532ba0833c60  E01000002   \n",
       "8         9  E00000020  4251a2ff-8fbe-4c11-aece-044f23ab9af2  E01000002   \n",
       "9        10  E00000021  48b2df49-45ed-48a4-b7fc-e0e32c1ad088  E01000002   \n",
       "\n",
       "              LSOA21NM   MSOA21CD            MSOA21NM   LEP22CD1  \\\n",
       "0  City of London 001A  E02000001  City of London 001  E37000051   \n",
       "1  City of London 001A  E02000001  City of London 001  E37000051   \n",
       "2  City of London 001A  E02000001  City of London 001  E37000051   \n",
       "3  City of London 001A  E02000001  City of London 001  E37000051   \n",
       "4  City of London 001C  E02000001  City of London 001  E37000051   \n",
       "5  City of London 001C  E02000001  City of London 001  E37000051   \n",
       "6  City of London 001B  E02000001  City of London 001  E37000051   \n",
       "7  City of London 001B  E02000001  City of London 001  E37000051   \n",
       "8  City of London 001B  E02000001  City of London 001  E37000051   \n",
       "9  City of London 001B  E02000001  City of London 001  E37000051   \n",
       "\n",
       "                                 LEP22NM1    LAD22CD         LAD22NM  \\\n",
       "0  The London Economic Action Partnership  E09000001  City of London   \n",
       "1  The London Economic Action Partnership  E09000001  City of London   \n",
       "2  The London Economic Action Partnership  E09000001  City of London   \n",
       "3  The London Economic Action Partnership  E09000001  City of London   \n",
       "4  The London Economic Action Partnership  E09000001  City of London   \n",
       "5  The London Economic Action Partnership  E09000001  City of London   \n",
       "6  The London Economic Action Partnership  E09000001  City of London   \n",
       "7  The London Economic Action Partnership  E09000001  City of London   \n",
       "8  The London Economic Action Partnership  E09000001  City of London   \n",
       "9  The London Economic Action Partnership  E09000001  City of London   \n",
       "\n",
       "     rgn22cd rgn22nm   ctry22cd ctry22nm  \\\n",
       "0  E12000007  London  E92000001  England   \n",
       "1  E12000007  London  E92000001  England   \n",
       "2  E12000007  London  E92000001  England   \n",
       "3  E12000007  London  E92000001  England   \n",
       "4  E12000007  London  E92000001  England   \n",
       "5  E12000007  London  E92000001  England   \n",
       "6  E12000007  London  E92000001  England   \n",
       "7  E12000007  London  E92000001  England   \n",
       "8  E12000007  London  E92000001  England   \n",
       "9  E12000007  London  E92000001  England   \n",
       "\n",
       "                                            geometry  \n",
       "0  MULTIPOLYGON (((532303.492 181814.110, 532213....  \n",
       "1  MULTIPOLYGON (((532213.378 181846.192, 532190....  \n",
       "2  MULTIPOLYGON (((532180.131 181763.020, 532219....  \n",
       "3  MULTIPOLYGON (((532201.292 181668.180, 532267....  \n",
       "4  MULTIPOLYGON (((532127.958 182133.192, 532089....  \n",
       "5  MULTIPOLYGON (((532247.654 181897.577, 532248....  \n",
       "6  MULTIPOLYGON (((532440.197 181842.934, 532544....  \n",
       "7  MULTIPOLYGON (((532619.141 181847.188, 532603....  \n",
       "8  MULTIPOLYGON (((532515.000 181686.981, 532544....  \n",
       "9  MULTIPOLYGON (((532746.813 181786.891, 532671....  "
      ]
     },
     "execution_count": 6,
     "metadata": {},
     "output_type": "execute_result"
    }
   ],
   "source": [
    "boundaries = gpd.read_file('../data/external/boundaries/oa_england.geojson')\n",
    "boundaries.head(10)"
   ]
  },
  {
   "cell_type": "code",
   "execution_count": 7,
   "metadata": {
    "metadata": {}
   },
   "outputs": [],
   "source": [
    "# filter to only include the OA's where \"Leeds\" is in the MSOA21NM field\n",
    "boundaries = boundaries[boundaries['MSOA21NM'].str.contains(\"Leeds\", na=False)]"
   ]
  },
  {
   "cell_type": "code",
   "execution_count": 8,
   "metadata": {
    "metadata": {}
   },
   "outputs": [
    {
     "data": {
      "text/plain": [
       "<Axes: >"
      ]
     },
     "execution_count": 8,
     "metadata": {},
     "output_type": "execute_result"
    },
    {
     "data": {
      "image/png": "[encoded data removed]",
      "text/plain": [
       "<Figure size 640x480 with 1 Axes>"
      ]
     },
     "metadata": {},
     "output_type": "display_data"
    }
   ],
   "source": [
    "# convert boundaries to 4326\n",
    "boundaries = boundaries.to_crs(epsg=4326)\n",
    "# plot the geometry\n",
    "boundaries.plot()"
   ]
  },
  {
   "cell_type": "code",
   "execution_count": 9,
   "metadata": {
    "metadata": {}
   },
   "outputs": [
    {
     "data": {
      "text/html": [
       "<div>\n",
       "<style scoped>\n",
       "    .dataframe tbody tr th:only-of-type {\n",
       "        vertical-align: middle;\n",
       "    }\n",
       "\n",
       "    .dataframe tbody tr th {\n",
       "        vertical-align: top;\n",
       "    }\n",
       "\n",
       "    .dataframe thead th {\n",
       "        text-align: right;\n",
       "    }\n",
       "</style>\n",
       "<table border=\"1\" class=\"dataframe\">\n",
       "  <thead>\n",
       "    <tr style=\"text-align: right;\">\n",
       "      <th></th>\n",
       "      <th>OBJECTID</th>\n",
       "      <th>OA21CD</th>\n",
       "      <th>GlobalID</th>\n",
       "      <th>LSOA21CD</th>\n",
       "      <th>LSOA21NM</th>\n",
       "      <th>MSOA21CD</th>\n",
       "      <th>MSOA21NM</th>\n",
       "      <th>LEP22CD1</th>\n",
       "      <th>LEP22NM1</th>\n",
       "      <th>LAD22CD</th>\n",
       "      <th>LAD22NM</th>\n",
       "      <th>rgn22cd</th>\n",
       "      <th>rgn22nm</th>\n",
       "      <th>ctry22cd</th>\n",
       "      <th>ctry22nm</th>\n",
       "      <th>geometry</th>\n",
       "    </tr>\n",
       "  </thead>\n",
       "  <tbody>\n",
       "    <tr>\n",
       "      <th>53506</th>\n",
       "      <td>53507</td>\n",
       "      <td>E00056750</td>\n",
       "      <td>0fd0c6c3-be95-44c9-ae9b-5046e36644d3</td>\n",
       "      <td>E01011269</td>\n",
       "      <td>Leeds 011B</td>\n",
       "      <td>E02002340</td>\n",
       "      <td>Leeds 011</td>\n",
       "      <td>E37000062</td>\n",
       "      <td>Leeds City Region</td>\n",
       "      <td>E08000035</td>\n",
       "      <td>Leeds</td>\n",
       "      <td>E12000003</td>\n",
       "      <td>Yorkshire and The Humber</td>\n",
       "      <td>E92000001</td>\n",
       "      <td>England</td>\n",
       "      <td>MULTIPOLYGON (((-1.68707 53.86901, -1.68740 53...</td>\n",
       "    </tr>\n",
       "    <tr>\n",
       "      <th>53507</th>\n",
       "      <td>53508</td>\n",
       "      <td>E00056751</td>\n",
       "      <td>358b1d5c-1301-4913-9270-f93a104a7e01</td>\n",
       "      <td>E01011272</td>\n",
       "      <td>Leeds 009D</td>\n",
       "      <td>E02002338</td>\n",
       "      <td>Leeds 009</td>\n",
       "      <td>E37000062</td>\n",
       "      <td>Leeds City Region</td>\n",
       "      <td>E08000035</td>\n",
       "      <td>Leeds</td>\n",
       "      <td>E12000003</td>\n",
       "      <td>Yorkshire and The Humber</td>\n",
       "      <td>E92000001</td>\n",
       "      <td>England</td>\n",
       "      <td>MULTIPOLYGON (((-1.70055 53.86613, -1.70060 53...</td>\n",
       "    </tr>\n",
       "    <tr>\n",
       "      <th>53508</th>\n",
       "      <td>53509</td>\n",
       "      <td>E00056752</td>\n",
       "      <td>8ed9b868-29c2-404d-9fa4-58b5a2481f8f</td>\n",
       "      <td>E01011273</td>\n",
       "      <td>Leeds 010B</td>\n",
       "      <td>E02002339</td>\n",
       "      <td>Leeds 010</td>\n",
       "      <td>E37000062</td>\n",
       "      <td>Leeds City Region</td>\n",
       "      <td>E08000035</td>\n",
       "      <td>Leeds</td>\n",
       "      <td>E12000003</td>\n",
       "      <td>Yorkshire and The Humber</td>\n",
       "      <td>E92000001</td>\n",
       "      <td>England</td>\n",
       "      <td>MULTIPOLYGON (((-1.69351 53.86904, -1.69372 53...</td>\n",
       "    </tr>\n",
       "    <tr>\n",
       "      <th>53509</th>\n",
       "      <td>53510</td>\n",
       "      <td>E00056753</td>\n",
       "      <td>33fe3f5a-898c-41f6-8b42-9d8a5276a275</td>\n",
       "      <td>E01011274</td>\n",
       "      <td>Leeds 010C</td>\n",
       "      <td>E02002339</td>\n",
       "      <td>Leeds 010</td>\n",
       "      <td>E37000062</td>\n",
       "      <td>Leeds City Region</td>\n",
       "      <td>E08000035</td>\n",
       "      <td>Leeds</td>\n",
       "      <td>E12000003</td>\n",
       "      <td>Yorkshire and The Humber</td>\n",
       "      <td>E92000001</td>\n",
       "      <td>England</td>\n",
       "      <td>MULTIPOLYGON (((-1.68013 53.86747, -1.68026 53...</td>\n",
       "    </tr>\n",
       "    <tr>\n",
       "      <th>53510</th>\n",
       "      <td>53511</td>\n",
       "      <td>E00056754</td>\n",
       "      <td>8d53d2d4-ca6a-4ddb-9d2a-9dd66bdcf42c</td>\n",
       "      <td>E01011276</td>\n",
       "      <td>Leeds 011C</td>\n",
       "      <td>E02002340</td>\n",
       "      <td>Leeds 011</td>\n",
       "      <td>E37000062</td>\n",
       "      <td>Leeds City Region</td>\n",
       "      <td>E08000035</td>\n",
       "      <td>Leeds</td>\n",
       "      <td>E12000003</td>\n",
       "      <td>Yorkshire and The Humber</td>\n",
       "      <td>E92000001</td>\n",
       "      <td>England</td>\n",
       "      <td>MULTIPOLYGON (((-1.67750 53.86496, -1.67755 53...</td>\n",
       "    </tr>\n",
       "  </tbody>\n",
       "</table>\n",
       "</div>"
      ],
      "text/plain": [
       "       OBJECTID     OA21CD                              GlobalID   LSOA21CD  \\\n",
       "53506     53507  E00056750  0fd0c6c3-be95-44c9-ae9b-5046e36644d3  E01011269   \n",
       "53507     53508  E00056751  358b1d5c-1301-4913-9270-f93a104a7e01  E01011272   \n",
       "53508     53509  E00056752  8ed9b868-29c2-404d-9fa4-58b5a2481f8f  E01011273   \n",
       "53509     53510  E00056753  33fe3f5a-898c-41f6-8b42-9d8a5276a275  E01011274   \n",
       "53510     53511  E00056754  8d53d2d4-ca6a-4ddb-9d2a-9dd66bdcf42c  E01011276   \n",
       "\n",
       "         LSOA21NM   MSOA21CD   MSOA21NM   LEP22CD1           LEP22NM1  \\\n",
       "53506  Leeds 011B  E02002340  Leeds 011  E37000062  Leeds City Region   \n",
       "53507  Leeds 009D  E02002338  Leeds 009  E37000062  Leeds City Region   \n",
       "53508  Leeds 010B  E02002339  Leeds 010  E37000062  Leeds City Region   \n",
       "53509  Leeds 010C  E02002339  Leeds 010  E37000062  Leeds City Region   \n",
       "53510  Leeds 011C  E02002340  Leeds 011  E37000062  Leeds City Region   \n",
       "\n",
       "         LAD22CD LAD22NM    rgn22cd                   rgn22nm   ctry22cd  \\\n",
       "53506  E08000035   Leeds  E12000003  Yorkshire and The Humber  E92000001   \n",
       "53507  E08000035   Leeds  E12000003  Yorkshire and The Humber  E92000001   \n",
       "53508  E08000035   Leeds  E12000003  Yorkshire and The Humber  E92000001   \n",
       "53509  E08000035   Leeds  E12000003  Yorkshire and The Humber  E92000001   \n",
       "53510  E08000035   Leeds  E12000003  Yorkshire and The Humber  E92000001   \n",
       "\n",
       "      ctry22nm                                           geometry  \n",
       "53506  England  MULTIPOLYGON (((-1.68707 53.86901, -1.68740 53...  \n",
       "53507  England  MULTIPOLYGON (((-1.70055 53.86613, -1.70060 53...  \n",
       "53508  England  MULTIPOLYGON (((-1.69351 53.86904, -1.69372 53...  \n",
       "53509  England  MULTIPOLYGON (((-1.68013 53.86747, -1.68026 53...  \n",
       "53510  England  MULTIPOLYGON (((-1.67750 53.86496, -1.67755 53...  "
      ]
     },
     "execution_count": 9,
     "metadata": {},
     "output_type": "execute_result"
    }
   ],
   "source": [
    "boundaries.head(5)"
   ]
  },
  {
   "cell_type": "markdown",
   "metadata": {},
   "source": [
    "#### Assign activity home locations to boundaries zoning system "
   ]
  },
  {
   "cell_type": "markdown",
   "metadata": {},
   "source": [
    "Convert location column in activity_chains to spatial column"
   ]
  },
  {
   "cell_type": "code",
   "execution_count": 10,
   "metadata": {
    "metadata": {}
   },
   "outputs": [],
   "source": [
    "# turn column to shapely point\n",
    "activity_chains['location'] = activity_chains['location'].apply(lambda loc: Point(loc['x'], loc['y']))\n",
    "\n",
    "# Convert the DataFrame into a GeoDataFrame, and assign a coordinate reference system (CRS)\n",
    "activity_chains = gpd.GeoDataFrame(activity_chains, geometry='location')\n",
    "activity_chains.crs = \"EPSG:4326\" # I assume this is the crs\n"
   ]
  },
  {
   "cell_type": "code",
   "execution_count": 11,
   "metadata": {
    "metadata": {}
   },
   "outputs": [
    {
     "data": {
      "image/png": "[encoded data removed]",
      "text/plain": [
       "<Figure size 1000x800 with 1 Axes>"
      ]
     },
     "metadata": {},
     "output_type": "display_data"
    }
   ],
   "source": [
    "# plot the boundaries gdf and overlay them with the activity_chains gdf\n",
    "fig, ax = plt.subplots(figsize=(10, 8))\n",
    "boundaries.plot(ax=ax, color='lightgrey')\n",
    "activity_chains.plot(ax=ax, color='red', markersize=1)\n",
    "plt.title('Activity Chains overlaid on Leeds Output Areas')\n",
    "plt.show()\n"
   ]
  },
  {
   "cell_type": "code",
   "execution_count": 12,
   "metadata": {
    "metadata": {}
   },
   "outputs": [],
   "source": [
    "#remove index_right column from activity_chains if it exists\n",
    "if 'index_right' in activity_chains.columns:\n",
    "    activity_chains = activity_chains.drop(columns='index_right')\n",
    "\n",
    "\n",
    "# Spatial join to identify which polygons each point is in\n",
    "activity_chains = gpd.sjoin(activity_chains, boundaries[[\"OA21CD\", \"geometry\"]], how='left', predicate='within')\n",
    "activity_chains = activity_chains.drop('index_right', axis=1)\n"
   ]
  },
  {
   "cell_type": "markdown",
   "metadata": {},
   "source": [
    "### Travel time matrix for study area\n",
    "\n",
    "Travel time data between geographical areas (LSOA, OA, custom hexagons etc) is used to determine feasible work / school locations for each individual. The travel times are compared to the travel times of the individual's actual trips from the nts (`tst`/`TripStart` and `tet`/`TripEnd`)"
   ]
  },
  {
   "cell_type": "code",
   "execution_count": 13,
   "metadata": {
    "metadata": {}
   },
   "outputs": [
    {
     "data": {
      "text/html": [
       "<div>\n",
       "<style scoped>\n",
       "    .dataframe tbody tr th:only-of-type {\n",
       "        vertical-align: middle;\n",
       "    }\n",
       "\n",
       "    .dataframe tbody tr th {\n",
       "        vertical-align: top;\n",
       "    }\n",
       "\n",
       "    .dataframe thead th {\n",
       "        text-align: right;\n",
       "    }\n",
       "</style>\n",
       "<table border=\"1\" class=\"dataframe\">\n",
       "  <thead>\n",
       "    <tr style=\"text-align: right;\">\n",
       "      <th></th>\n",
       "      <th>from_id</th>\n",
       "      <th>to_id</th>\n",
       "      <th>travel_time_p25</th>\n",
       "      <th>travel_time_p50</th>\n",
       "      <th>travel_time_p75</th>\n",
       "      <th>combination</th>\n",
       "    </tr>\n",
       "  </thead>\n",
       "  <tbody>\n",
       "    <tr>\n",
       "      <th>0</th>\n",
       "      <td>53507</td>\n",
       "      <td>53507</td>\n",
       "      <td>0</td>\n",
       "      <td>0.0</td>\n",
       "      <td>0.0</td>\n",
       "      <td>pt_wkday_morning</td>\n",
       "    </tr>\n",
       "    <tr>\n",
       "      <th>1</th>\n",
       "      <td>53507</td>\n",
       "      <td>53508</td>\n",
       "      <td>24</td>\n",
       "      <td>29.0</td>\n",
       "      <td>34.0</td>\n",
       "      <td>pt_wkday_morning</td>\n",
       "    </tr>\n",
       "    <tr>\n",
       "      <th>2</th>\n",
       "      <td>53507</td>\n",
       "      <td>53509</td>\n",
       "      <td>17</td>\n",
       "      <td>22.0</td>\n",
       "      <td>27.0</td>\n",
       "      <td>pt_wkday_morning</td>\n",
       "    </tr>\n",
       "    <tr>\n",
       "      <th>3</th>\n",
       "      <td>53507</td>\n",
       "      <td>53510</td>\n",
       "      <td>12</td>\n",
       "      <td>14.0</td>\n",
       "      <td>16.0</td>\n",
       "      <td>pt_wkday_morning</td>\n",
       "    </tr>\n",
       "    <tr>\n",
       "      <th>4</th>\n",
       "      <td>53507</td>\n",
       "      <td>53511</td>\n",
       "      <td>14</td>\n",
       "      <td>16.0</td>\n",
       "      <td>18.0</td>\n",
       "      <td>pt_wkday_morning</td>\n",
       "    </tr>\n",
       "    <tr>\n",
       "      <th>5</th>\n",
       "      <td>53507</td>\n",
       "      <td>53512</td>\n",
       "      <td>10</td>\n",
       "      <td>10.0</td>\n",
       "      <td>10.0</td>\n",
       "      <td>pt_wkday_morning</td>\n",
       "    </tr>\n",
       "    <tr>\n",
       "      <th>6</th>\n",
       "      <td>53507</td>\n",
       "      <td>53513</td>\n",
       "      <td>11</td>\n",
       "      <td>13.0</td>\n",
       "      <td>15.0</td>\n",
       "      <td>pt_wkday_morning</td>\n",
       "    </tr>\n",
       "    <tr>\n",
       "      <th>7</th>\n",
       "      <td>53507</td>\n",
       "      <td>53514</td>\n",
       "      <td>23</td>\n",
       "      <td>25.0</td>\n",
       "      <td>28.0</td>\n",
       "      <td>pt_wkday_morning</td>\n",
       "    </tr>\n",
       "    <tr>\n",
       "      <th>8</th>\n",
       "      <td>53507</td>\n",
       "      <td>53515</td>\n",
       "      <td>31</td>\n",
       "      <td>36.0</td>\n",
       "      <td>41.0</td>\n",
       "      <td>pt_wkday_morning</td>\n",
       "    </tr>\n",
       "    <tr>\n",
       "      <th>9</th>\n",
       "      <td>53507</td>\n",
       "      <td>53516</td>\n",
       "      <td>34</td>\n",
       "      <td>39.0</td>\n",
       "      <td>44.0</td>\n",
       "      <td>pt_wkday_morning</td>\n",
       "    </tr>\n",
       "  </tbody>\n",
       "</table>\n",
       "</div>"
      ],
      "text/plain": [
       "  from_id  to_id  travel_time_p25  travel_time_p50  travel_time_p75  \\\n",
       "0   53507  53507                0              0.0              0.0   \n",
       "1   53507  53508               24             29.0             34.0   \n",
       "2   53507  53509               17             22.0             27.0   \n",
       "3   53507  53510               12             14.0             16.0   \n",
       "4   53507  53511               14             16.0             18.0   \n",
       "5   53507  53512               10             10.0             10.0   \n",
       "6   53507  53513               11             13.0             15.0   \n",
       "7   53507  53514               23             25.0             28.0   \n",
       "8   53507  53515               31             36.0             41.0   \n",
       "9   53507  53516               34             39.0             44.0   \n",
       "\n",
       "        combination  \n",
       "0  pt_wkday_morning  \n",
       "1  pt_wkday_morning  \n",
       "2  pt_wkday_morning  \n",
       "3  pt_wkday_morning  \n",
       "4  pt_wkday_morning  \n",
       "5  pt_wkday_morning  \n",
       "6  pt_wkday_morning  \n",
       "7  pt_wkday_morning  \n",
       "8  pt_wkday_morning  \n",
       "9  pt_wkday_morning  "
      ]
     },
     "execution_count": 13,
     "metadata": {},
     "output_type": "execute_result"
    }
   ],
   "source": [
    "travel_times = pd.read_parquet('../data/external/travel_times/oa/travel_time_matrix_acbm.parquet')\n",
    "travel_times.head(10)"
   ]
  },
  {
   "cell_type": "code",
   "execution_count": 14,
   "metadata": {
    "metadata": {}
   },
   "outputs": [
    {
     "data": {
      "text/plain": [
       "array(['pt_wkday_morning', 'pt_wkday_afternoon', 'pt_wkday_evening',\n",
       "       'pt_wkday_night', 'pt_wkend_morning', 'pt_wkend_evening', 'car',\n",
       "       'walk', 'cycle'], dtype=object)"
      ]
     },
     "execution_count": 14,
     "metadata": {},
     "output_type": "execute_result"
    }
   ],
   "source": [
    "travel_times[\"combination\"].unique()"
   ]
  },
  {
   "cell_type": "markdown",
   "metadata": {},
   "source": [
    "Add area code to travel time data"
   ]
  },
  {
   "cell_type": "code",
   "execution_count": 15,
   "metadata": {
    "metadata": {}
   },
   "outputs": [
    {
     "data": {
      "text/html": [
       "<div>\n",
       "<style scoped>\n",
       "    .dataframe tbody tr th:only-of-type {\n",
       "        vertical-align: middle;\n",
       "    }\n",
       "\n",
       "    .dataframe tbody tr th {\n",
       "        vertical-align: top;\n",
       "    }\n",
       "\n",
       "    .dataframe thead th {\n",
       "        text-align: right;\n",
       "    }\n",
       "</style>\n",
       "<table border=\"1\" class=\"dataframe\">\n",
       "  <thead>\n",
       "    <tr style=\"text-align: right;\">\n",
       "      <th></th>\n",
       "      <th>from_id</th>\n",
       "      <th>to_id</th>\n",
       "      <th>travel_time_p25</th>\n",
       "      <th>travel_time_p50</th>\n",
       "      <th>travel_time_p75</th>\n",
       "      <th>combination</th>\n",
       "      <th>OA21CD_from</th>\n",
       "      <th>OA21CD_to</th>\n",
       "    </tr>\n",
       "  </thead>\n",
       "  <tbody>\n",
       "    <tr>\n",
       "      <th>0</th>\n",
       "      <td>53507</td>\n",
       "      <td>53507</td>\n",
       "      <td>0</td>\n",
       "      <td>0.0</td>\n",
       "      <td>0.0</td>\n",
       "      <td>pt_wkday_morning</td>\n",
       "      <td>E00056750</td>\n",
       "      <td>E00056750</td>\n",
       "    </tr>\n",
       "    <tr>\n",
       "      <th>1</th>\n",
       "      <td>53507</td>\n",
       "      <td>53508</td>\n",
       "      <td>24</td>\n",
       "      <td>29.0</td>\n",
       "      <td>34.0</td>\n",
       "      <td>pt_wkday_morning</td>\n",
       "      <td>E00056750</td>\n",
       "      <td>E00056751</td>\n",
       "    </tr>\n",
       "    <tr>\n",
       "      <th>2</th>\n",
       "      <td>53507</td>\n",
       "      <td>53509</td>\n",
       "      <td>17</td>\n",
       "      <td>22.0</td>\n",
       "      <td>27.0</td>\n",
       "      <td>pt_wkday_morning</td>\n",
       "      <td>E00056750</td>\n",
       "      <td>E00056752</td>\n",
       "    </tr>\n",
       "    <tr>\n",
       "      <th>3</th>\n",
       "      <td>53507</td>\n",
       "      <td>53510</td>\n",
       "      <td>12</td>\n",
       "      <td>14.0</td>\n",
       "      <td>16.0</td>\n",
       "      <td>pt_wkday_morning</td>\n",
       "      <td>E00056750</td>\n",
       "      <td>E00056753</td>\n",
       "    </tr>\n",
       "    <tr>\n",
       "      <th>4</th>\n",
       "      <td>53507</td>\n",
       "      <td>53511</td>\n",
       "      <td>14</td>\n",
       "      <td>16.0</td>\n",
       "      <td>18.0</td>\n",
       "      <td>pt_wkday_morning</td>\n",
       "      <td>E00056750</td>\n",
       "      <td>E00056754</td>\n",
       "    </tr>\n",
       "    <tr>\n",
       "      <th>5</th>\n",
       "      <td>53507</td>\n",
       "      <td>53512</td>\n",
       "      <td>10</td>\n",
       "      <td>10.0</td>\n",
       "      <td>10.0</td>\n",
       "      <td>pt_wkday_morning</td>\n",
       "      <td>E00056750</td>\n",
       "      <td>E00056755</td>\n",
       "    </tr>\n",
       "    <tr>\n",
       "      <th>6</th>\n",
       "      <td>53507</td>\n",
       "      <td>53513</td>\n",
       "      <td>11</td>\n",
       "      <td>13.0</td>\n",
       "      <td>15.0</td>\n",
       "      <td>pt_wkday_morning</td>\n",
       "      <td>E00056750</td>\n",
       "      <td>E00056756</td>\n",
       "    </tr>\n",
       "    <tr>\n",
       "      <th>7</th>\n",
       "      <td>53507</td>\n",
       "      <td>53514</td>\n",
       "      <td>23</td>\n",
       "      <td>25.0</td>\n",
       "      <td>28.0</td>\n",
       "      <td>pt_wkday_morning</td>\n",
       "      <td>E00056750</td>\n",
       "      <td>E00056757</td>\n",
       "    </tr>\n",
       "    <tr>\n",
       "      <th>8</th>\n",
       "      <td>53507</td>\n",
       "      <td>53515</td>\n",
       "      <td>31</td>\n",
       "      <td>36.0</td>\n",
       "      <td>41.0</td>\n",
       "      <td>pt_wkday_morning</td>\n",
       "      <td>E00056750</td>\n",
       "      <td>E00056758</td>\n",
       "    </tr>\n",
       "    <tr>\n",
       "      <th>9</th>\n",
       "      <td>53507</td>\n",
       "      <td>53516</td>\n",
       "      <td>34</td>\n",
       "      <td>39.0</td>\n",
       "      <td>44.0</td>\n",
       "      <td>pt_wkday_morning</td>\n",
       "      <td>E00056750</td>\n",
       "      <td>E00056759</td>\n",
       "    </tr>\n",
       "  </tbody>\n",
       "</table>\n",
       "</div>"
      ],
      "text/plain": [
       "   from_id  to_id  travel_time_p25  travel_time_p50  travel_time_p75  \\\n",
       "0    53507  53507                0              0.0              0.0   \n",
       "1    53507  53508               24             29.0             34.0   \n",
       "2    53507  53509               17             22.0             27.0   \n",
       "3    53507  53510               12             14.0             16.0   \n",
       "4    53507  53511               14             16.0             18.0   \n",
       "5    53507  53512               10             10.0             10.0   \n",
       "6    53507  53513               11             13.0             15.0   \n",
       "7    53507  53514               23             25.0             28.0   \n",
       "8    53507  53515               31             36.0             41.0   \n",
       "9    53507  53516               34             39.0             44.0   \n",
       "\n",
       "        combination OA21CD_from  OA21CD_to  \n",
       "0  pt_wkday_morning   E00056750  E00056750  \n",
       "1  pt_wkday_morning   E00056750  E00056751  \n",
       "2  pt_wkday_morning   E00056750  E00056752  \n",
       "3  pt_wkday_morning   E00056750  E00056753  \n",
       "4  pt_wkday_morning   E00056750  E00056754  \n",
       "5  pt_wkday_morning   E00056750  E00056755  \n",
       "6  pt_wkday_morning   E00056750  E00056756  \n",
       "7  pt_wkday_morning   E00056750  E00056757  \n",
       "8  pt_wkday_morning   E00056750  E00056758  \n",
       "9  pt_wkday_morning   E00056750  E00056759  "
      ]
     },
     "execution_count": 15,
     "metadata": {},
     "output_type": "execute_result"
    }
   ],
   "source": [
    "# convert from_id and to_id to int to match the boundaries data type\n",
    "travel_times = travel_times.astype({'from_id': int, 'to_id': int})\n",
    "\n",
    "# merge travel_times with boundaries\n",
    "travel_times = travel_times.merge(boundaries[['OBJECTID', 'OA21CD']], left_on='from_id', right_on='OBJECTID', how='left')\n",
    "travel_times = travel_times.drop(columns='OBJECTID')\n",
    "\n",
    "travel_times = travel_times.merge(boundaries[['OBJECTID', 'OA21CD']], left_on='to_id', right_on='OBJECTID', how='left', suffixes=('_from', '_to'))\n",
    "travel_times = travel_times.drop(columns='OBJECTID')\n",
    "\n",
    "travel_times.head(10)"
   ]
  },
  {
   "cell_type": "markdown",
   "metadata": {},
   "source": [
    "#### Travel distance matrix\n",
    "\n",
    "Some areas aren't reachable by specific modes. This can cause problems later on in get_possible_zones() as we won't be able to assign some activities to zones. We create a travel distance matrix to fall back on when there are no travel time calculations"
   ]
  },
  {
   "cell_type": "code",
   "execution_count": 16,
   "metadata": {},
   "outputs": [],
   "source": [
    "travel_time_estimates = zones_to_time_matrix(\n",
    "    zones = boundaries,\n",
    "    id_col = \"OA21CD\",\n",
    "    to_dict = True\n",
    ")"
   ]
  },
  {
   "cell_type": "markdown",
   "metadata": {},
   "source": [
    "What does the data look like?"
   ]
  },
  {
   "cell_type": "code",
   "execution_count": 17,
   "metadata": {},
   "outputs": [
    {
     "name": "stdout",
     "output_type": "stream",
     "text": [
      "(('E00056750', 'E00056750'), {'distance': 0.0, 'time_car': 0.0, 'time_pt': 0.0, 'time_cycle': 0.0, 'time_walk': 0.0, 'time_average': 0.0})\n",
      "(('E00056750', 'E00056751'), {'distance': 1094.6936246851778, 'time_car': 197.04485244333202, 'time_pt': 262.72646992444265, 'time_cycle': 262.72646992444265, 'time_walk': 788.1794097733281, 'time_average': 262.72646992444265})\n",
      "(('E00056750', 'E00056752'), {'distance': 507.0518272579844, 'time_car': 91.2693289064372, 'time_pt': 121.69243854191626, 'time_cycle': 121.69243854191626, 'time_walk': 365.0773156257488, 'time_average': 121.69243854191626})\n",
      "(('E00056750', 'E00056753'), {'distance': 438.18052839269427, 'time_car': 78.87249511068497, 'time_pt': 105.16332681424662, 'time_cycle': 105.16332681424662, 'time_walk': 315.48998044273986, 'time_average': 105.16332681424662})\n",
      "(('E00056750', 'E00056754'), {'distance': 672.107062011398, 'time_car': 120.97927116205166, 'time_pt': 161.3056948827355, 'time_cycle': 161.3056948827355, 'time_walk': 483.91708464820664, 'time_average': 161.3056948827355})\n"
     ]
    }
   ],
   "source": [
    "# Get an iterator over the dictionary items and then print the first n items\n",
    "items = iter(travel_time_estimates.items())\n",
    "\n",
    "for i in range(5):\n",
    "    print(next(items))"
   ]
  },
  {
   "cell_type": "code",
   "execution_count": 18,
   "metadata": {},
   "outputs": [],
   "source": [
    "with open('../data/interim/assigning/travel_time_estimates.pkl', 'wb') as f:\n",
    "    pkl.dump(travel_time_estimates, f)"
   ]
  },
  {
   "cell_type": "markdown",
   "metadata": {},
   "source": [
    "#### Intrazonal trip times \n",
    "\n",
    "Intrazonal trips all have time = 0. Our `get_possible_zones` function finds zones that are within a specified % threshold from the reported time in the NTS. A threshold percentage from a non zero number never equals 0, so intrazonal trips are not found. The problem is also explained in this [github issue](https://github.com/Urban-Analytics-Technology-Platform/acbm/issues/30)\n",
    "\n",
    "Below, we assign intrazonal trips a non-zero time based on the zone area"
   ]
  },
  {
   "cell_type": "code",
   "execution_count": 23,
   "metadata": {},
   "outputs": [
    {
     "name": "stdout",
     "output_type": "stream",
     "text": [
      "(53506, {'car': 0.3, 'pt': 0.5, 'cycle': 0.5, 'walk': 1.4, 'average': 0.5})\n",
      "(53507, {'car': 0.5, 'pt': 0.7, 'cycle': 0.7, 'walk': 2.1, 'average': 0.7})\n",
      "(53508, {'car': 0.7, 'pt': 0.9, 'cycle': 0.9, 'walk': 2.7, 'average': 0.9})\n",
      "(53509, {'car': 0.4, 'pt': 0.6, 'cycle': 0.6, 'walk': 1.7, 'average': 0.6})\n",
      "(53510, {'car': 0.3, 'pt': 0.3, 'cycle': 0.3, 'walk': 1.0, 'average': 0.3})\n",
      "(53511, {'car': 0.5, 'pt': 0.7, 'cycle': 0.7, 'walk': 2.0, 'average': 0.7})\n",
      "(53512, {'car': 0.3, 'pt': 0.4, 'cycle': 0.4, 'walk': 1.2, 'average': 0.4})\n",
      "(53513, {'car': 0.5, 'pt': 0.7, 'cycle': 0.7, 'walk': 2.2, 'average': 0.7})\n",
      "(53514, {'car': 0.5, 'pt': 0.6, 'cycle': 0.6, 'walk': 1.8, 'average': 0.6})\n",
      "(53515, {'car': 0.3, 'pt': 0.3, 'cycle': 0.3, 'walk': 1.0, 'average': 0.3})\n"
     ]
    }
   ],
   "source": [
    "# get intrazone travel time estimates per mode\n",
    "\n",
    "intrazone_times = intrazone_time(boundaries)\n",
    "\n",
    "# print first 10 items in the dictionary\n",
    "items = iter(intrazone_times.items())\n",
    "\n",
    "for i in range(10):\n",
    "    print(next(items))"
   ]
  },
  {
   "cell_type": "code",
   "execution_count": 20,
   "metadata": {},
   "outputs": [],
   "source": [
    "# replace intrazonal travel times with estimates from intrazone_times\n",
    "\n",
    "travel_times = replace_intrazonal_travel_time(travel_times= travel_times,\n",
    "                                              intrazonal_estimates= intrazone_times,\n",
    "                                              column_to_replace= 'travel_time_p50')\n",
    "\n"
   ]
  },
  {
   "cell_type": "markdown",
   "metadata": {},
   "source": [
    "### Activity locations \n",
    "\n",
    "Activity locations are obtained from OSM using the [osmox](https://github.com/arup-group/osmox) package. Check the config documentation in the package and the `config_osmox` file in this repo"
   ]
  },
  {
   "cell_type": "code",
   "execution_count": null,
   "metadata": {
    "metadata": {}
   },
   "outputs": [],
   "source": [
    "# osm data\n",
    "osm_data = gpd.read_parquet('../data/external/boundaries/west-yorkshire_epsg_4326.parquet')"
   ]
  },
  {
   "cell_type": "code",
   "execution_count": null,
   "metadata": {
    "metadata": {}
   },
   "outputs": [],
   "source": [
    "osm_data.head(100)"
   ]
  },
  {
   "cell_type": "code",
   "execution_count": null,
   "metadata": {
    "metadata": {}
   },
   "outputs": [],
   "source": [
    "# get unique values for activties column\n",
    "osm_data['activities'].unique()"
   ]
  },
  {
   "cell_type": "code",
   "execution_count": null,
   "metadata": {
    "metadata": {}
   },
   "outputs": [],
   "source": [
    "# remove rows with activities = home OR transit\n",
    "\n",
    "osm_data = osm_data[~osm_data['activities'].isin(['home', 'transit'])]\n",
    "#osm_data = osm_data[osm_data['activities'] != 'home']\n",
    "osm_data.head(10)\n"
   ]
  },
  {
   "cell_type": "code",
   "execution_count": null,
   "metadata": {
    "metadata": {}
   },
   "outputs": [],
   "source": [
    "osm_data.activities.unique()"
   ]
  },
  {
   "cell_type": "markdown",
   "metadata": {},
   "source": [
    "#### Get the number of activities in each zone \n",
    "\n",
    "Each zone has a different number of education facilities. We can use the number of facilities in each zone to determine the probability of each zone being chosen for each trip. We can then use these probabilities to randomly assign a zone to each trip.\n",
    "\n",
    "The education facilities are disaggregated by type. For each activity, we use the individual's age to detemrine which of the following they are most likely to go to \n",
    "\n",
    "- \"kindergarden\": education_kg\"\n",
    "- \"school\": \"education_school\"\n",
    "- \"university\": \"education_university\"\n",
    "- \"college\": \"education_college\""
   ]
  },
  {
   "cell_type": "code",
   "execution_count": null,
   "metadata": {
    "metadata": {}
   },
   "outputs": [],
   "source": [
    "# spatial join to identify which zone each point in osm_data is in\n",
    "osm_data_gdf = gpd.sjoin(osm_data, boundaries[[\"OA21CD\", \"geometry\"]], how='inner', predicate='within')\n",
    "osm_data_gdf.head(5)"
   ]
  },
  {
   "cell_type": "code",
   "execution_count": null,
   "metadata": {
    "metadata": {}
   },
   "outputs": [],
   "source": [
    "# plot the points and then plot the zones on a map\n",
    "fig, ax = plt.subplots(figsize=(10, 8))\n",
    "boundaries.plot(ax=ax, color='lightgrey')\n",
    "osm_data_gdf.plot(ax=ax, color='red', markersize=1)\n",
    "plt.title('OSM Data overlaid on Leeds Output Areas')\n",
    "plt.show()"
   ]
  },
  {
   "cell_type": "markdown",
   "metadata": {},
   "source": [
    "To select a zone from a list of zones, we need a list of the activity types that are available in the zone. We then sample probabilistically based on number of activities / total floorspace"
   ]
  },
  {
   "cell_type": "markdown",
   "metadata": {},
   "source": [
    "`get_activities_per_zone()` can return a dictionary of dfs, or one big df. Just set `return_df` to `True` to get one df. Let's try both"
   ]
  },
  {
   "cell_type": "code",
   "execution_count": null,
   "metadata": {
    "metadata": {}
   },
   "outputs": [],
   "source": [
    "activities_per_zone_dict = get_activities_per_zone(\n",
    "    zones = boundaries,\n",
    "    zone_id_col = \"OA21CD\",\n",
    "    activity_pts = osm_data,\n",
    "    )"
   ]
  },
  {
   "cell_type": "markdown",
   "metadata": {},
   "source": [
    "What does the data look like?"
   ]
  },
  {
   "cell_type": "code",
   "execution_count": null,
   "metadata": {},
   "outputs": [],
   "source": [
    "# Get an iterator over the dictionary items\n",
    "items = iter(activities_per_zone_dict.items())\n",
    "\n",
    "# Print the first 5 items\n",
    "for i in range(5):\n",
    "    print(next(items))"
   ]
  },
  {
   "cell_type": "code",
   "execution_count": null,
   "metadata": {},
   "outputs": [],
   "source": [
    "activities_per_zone = get_activities_per_zone(\n",
    "    zones = boundaries,\n",
    "    zone_id_col = \"OA21CD\",\n",
    "    activity_pts = osm_data,\n",
    "    return_df = True\n",
    "    )\n",
    "\n",
    "activities_per_zone"
   ]
  },
  {
   "cell_type": "code",
   "execution_count": null,
   "metadata": {},
   "outputs": [],
   "source": [
    "with open('../data/interim/assigning/activities_per_zone.pkl', 'wb') as f:\n",
    "    pkl.dump(activities_per_zone_dict, f)\n",
    "\n",
    "# save activities_per_zone as a parquet file\n",
    "activities_per_zone.to_parquet('../data/interim/assigning/activities_per_zone.parquet')"
   ]
  },
  {
   "cell_type": "markdown",
   "metadata": {},
   "source": [
    "### Commuting matrices\n",
    "\n",
    "From 2021 census"
   ]
  },
  {
   "cell_type": "code",
   "execution_count": null,
   "metadata": {},
   "outputs": [],
   "source": [
    "# read in the zipped csv file\n",
    "travel_demand = pd.read_csv('../data/external/ODWP15EW_MSOA_v1.zip')\n",
    "travel_demand.head(5)\n"
   ]
  },
  {
   "cell_type": "code",
   "execution_count": null,
   "metadata": {},
   "outputs": [],
   "source": [
    "# Dictionary between reported modes and the modes used in the model. The values we map to should be consistent\n",
    "# with the modes used in the model (check purp_mapping dict)\n",
    "commute_mode_dict = {\n",
    "    \"Bus, minibus or coach\": \"pt\",\n",
    "    \"Driving a car or van\": \"car\",\n",
    "    \"Train\": \"pt\",\n",
    "    \"Underground, metro, light rail, tram\": \"pt\",\n",
    "    \"On foot\": \"walk\",\n",
    "    \"Taxi\": \"car\",\n",
    "    \"Other method of travel to work\": \"other\",\n",
    "    \"Bicycle\": \"cycle\",\n",
    "    \"Passenger in a car or van\": \"car\",\n",
    "    \"Motorcycle, scooter or moped\": \"car\",\n",
    "    \"Work mainly at or from home\": \"home\"\n",
    "}\n",
    "\n",
    "\n",
    "# create a new column in the travel_demand dataframe that maps the commute mode to the model mode\n",
    "travel_demand['mode'] = travel_demand['Method used to travel to workplace (12 categories) label'].map(commute_mode_dict)"
   ]
  },
  {
   "cell_type": "code",
   "execution_count": null,
   "metadata": {},
   "outputs": [],
   "source": [
    "# What are the different categories for Place of work?\n",
    "travel_demand[[\"Place of work indicator (4 categories) label\", \"Place of work indicator (4 categories) code\"]].drop_duplicates()"
   ]
  },
  {
   "cell_type": "code",
   "execution_count": null,
   "metadata": {},
   "outputs": [],
   "source": [
    "# How many people fall under each category\n",
    "travel_demand.groupby([\"Place of work indicator (4 categories) label\", \"mode\"])[\"Count\"].sum()"
   ]
  },
  {
   "cell_type": "code",
   "execution_count": null,
   "metadata": {},
   "outputs": [],
   "source": [
    "\n",
    "# Filter rows where 'Place of work indicator (4 categories) code' is 1 or 3\n",
    "travel_demand_clipped = travel_demand[travel_demand['Place of work indicator (4 categories) code'].isin([1, 3])]\n",
    "# Drop unnecessary columns\n",
    "travel_demand_clipped = travel_demand_clipped.drop(columns=['Middle layer Super Output Areas label', 'MSOA of workplace label',\n",
    "                                                                  'Method used to travel to workplace (12 categories) label', 'Method used to travel to workplace (12 categories) code',\n",
    "                                                                  'Place of work indicator (4 categories) code', 'Place of work indicator (4 categories) label'])\n",
    "\n",
    "# Rename columns\n",
    "travel_demand_clipped = travel_demand_clipped.rename(columns={'Middle layer Super Output Areas code': 'MSOA21CD_home',\n",
    "                                                                    'MSOA of workplace code': 'MSOA21CD_work'})\n",
    "\n",
    "# Group by 'MSOA21CD_home', 'MSOA21CD_work', and 'commute_mode', and sum 'Count'\n",
    "travel_demand_clipped = travel_demand_clipped.groupby(['MSOA21CD_home', 'MSOA21CD_work', 'mode']).agg({'Count': 'sum'}).reset_index()\n",
    "\n",
    "travel_demand_clipped.head(100)"
   ]
  },
  {
   "cell_type": "markdown",
   "metadata": {},
   "source": [
    "\n",
    "Filter the travel time matrix to our study area"
   ]
  },
  {
   "cell_type": "code",
   "execution_count": null,
   "metadata": {},
   "outputs": [],
   "source": [
    "travel_demand_clipped = filter_matrix_to_boundary(\n",
    "    boundary = boundaries,\n",
    "    matrix = travel_demand_clipped,\n",
    "    boundary_id_col = \"MSOA21CD\",\n",
    "    matrix_id_col = \"MSOA21CD\",\n",
    "    type = \"both\"\n",
    ")\n",
    "\n",
    "travel_demand_clipped.shape[0]"
   ]
  },
  {
   "cell_type": "markdown",
   "metadata": {},
   "source": [
    "Turn into a dictionary"
   ]
  },
  {
   "cell_type": "code",
   "execution_count": null,
   "metadata": {},
   "outputs": [],
   "source": [
    "travel_demand_dict = travel_demand_clipped.groupby(['MSOA21CD_home', 'MSOA21CD_work']).apply(\n",
    "    lambda x: dict(zip(x['mode'], x['Count']))).to_dict()\n",
    "\n",
    "# Get an iterator over the dictionary items\n",
    "items = iter(travel_demand_dict.items())\n",
    "\n",
    "# Print the first 5 items\n",
    "for i in range(5):\n",
    "    print(next(items))\n",
    "\n",
    "\n"
   ]
  },
  {
   "cell_type": "markdown",
   "metadata": {},
   "source": [
    "### Business Registry"
   ]
  },
  {
   "cell_type": "code",
   "execution_count": null,
   "metadata": {},
   "outputs": [],
   "source": [
    "business_registry = pd.read_csv('../data/external/businessRegistry.csv.gz')\n",
    "\n",
    "business_registry.head(5)"
   ]
  },
  {
   "cell_type": "code",
   "execution_count": null,
   "metadata": {},
   "outputs": [],
   "source": [
    "# Match 2011 MSOA codes to 2021 MSOA codes\n",
    "\n",
    "msoa_lookup = pd.read_csv('../data/external/MSOA_2011_MSOA_2021_Lookup_for_England_and_Wales.csv')\n",
    "\n",
    "# match MSOA21CD to businessregistry MSOA11CD\n",
    "business_registry = business_registry.merge(msoa_lookup[['MSOA11CD', 'MSOA21CD']],\n",
    "                                            left_on='MSOA11CD',\n",
    "                                            right_on='MSOA11CD', how='left')\n",
    "\n",
    "business_registry"
   ]
  },
  {
   "cell_type": "code",
   "execution_count": null,
   "metadata": {},
   "outputs": [],
   "source": [
    "# filter Business Registry to only include rows where MSOA21CD is in boundaries\n",
    "business_registry = business_registry[business_registry['MSOA21CD'].isin(boundaries['MSOA21CD'])]"
   ]
  },
  {
   "cell_type": "markdown",
   "metadata": {},
   "source": [
    "Let's visualise the spatial distribution of businesses in the study area"
   ]
  },
  {
   "cell_type": "code",
   "execution_count": null,
   "metadata": {},
   "outputs": [],
   "source": [
    "# Group by 'MSOA21CD' and 'SIC1d07' and get number of rows in each group\n",
    "\n",
    "#business_registry_vis = business_registry.groupby(['MSOA21CD', 'sic1d07']).size().reset_index(name='count')\n",
    "business_registry_vis = business_registry.groupby(['MSOA21CD', 'sic1d07'])['size'].sum().reset_index(name='count')\n",
    "# add spatial information to business_registry\n",
    "business_registry_vis = business_registry_vis.merge(boundaries[['MSOA21CD', 'geometry']], on='MSOA21CD', how='left')\n",
    "\n",
    "business_registry_vis.head(5)"
   ]
  },
  {
   "cell_type": "code",
   "execution_count": null,
   "metadata": {},
   "outputs": [],
   "source": [
    "import matplotlib.colors as mcolors\n",
    "\n",
    "# Ensure business_registry_vis is a GeoDataFrame\n",
    "business_registry_vis = gpd.GeoDataFrame(business_registry_vis)\n",
    "\n",
    "# Boundary layer for background\n",
    "outer_boundary = boundaries.unary_union\n",
    "\n",
    "# Get unique 'sic1d07' ids\n",
    "sic1d07_ids = np.sort(business_registry_vis['sic1d07'].astype(int).unique())\n",
    "\n",
    "# Calculate the number of rows needed for the subplots\n",
    "n_rows = int(np.ceil(len(sic1d07_ids) / 3))\n",
    "\n",
    "# Create a grid of subplots\n",
    "fig, axs = plt.subplots(n_rows, 3, figsize=(15, n_rows*5))\n",
    "\n",
    "# Flatten the array of axes\n",
    "axs = axs.flatten()\n",
    "\n",
    "# Calculate global min and max counts (so that all maps have the same legend scale)\n",
    "vmin = business_registry_vis['count'].min()\n",
    "vmax = business_registry_vis['count'].max()\n",
    "\n",
    "\n",
    "# Create a separate map for each 'sic1d07' id\n",
    "for i, sic1d07_id in enumerate(sic1d07_ids):\n",
    "    # Subset the data for the current 'sic1d07' id\n",
    "    data_subset = business_registry_vis[business_registry_vis['sic1d07'] == sic1d07_id]\n",
    "\n",
    "    # Plot the boundary layer on the current subplot\n",
    "    gpd.GeoSeries(outer_boundary).plot(ax=axs[i], color='none', edgecolor='#d3d3d3')\n",
    "\n",
    "    # Create the map on the current subplot\n",
    "    data_subset.plot(column='count', legend=True, cmap='viridis', ax=axs[i],\n",
    "                     norm=mcolors.LogNorm(vmin=vmin, vmax=vmax))\n",
    "\n",
    "    # Set the title\n",
    "    axs[i].set_title(f'sic1d07 id: {sic1d07_id}')\n",
    "\n",
    "# Remove empty subplots\n",
    "for i in range(len(sic1d07_ids), len(axs)):\n",
    "    fig.delaxes(axs[i])\n",
    "\n",
    "# Add a main title\n",
    "fig.suptitle('Spatial distribution of jobs by SIC category', fontsize=18, y=0.9)\n",
    "\n",
    "# Adjust the layout to leave space for the main title\n",
    "plt.tight_layout(rect=[0, 0, 1, 0.9])\n",
    "\n",
    "# Show the plot\n",
    "plt.show()\n"
   ]
  },
  {
   "cell_type": "code",
   "execution_count": null,
   "metadata": {},
   "outputs": [],
   "source": [
    "sic1d07_ids = business_registry_vis['sic1d07'].unique()\n",
    "\n",
    "sic1d07_ids"
   ]
  },
  {
   "cell_type": "code",
   "execution_count": null,
   "metadata": {},
   "outputs": [],
   "source": [
    "# add spatial information to business_registry\n",
    "business_registry_map = business_registry.merge(boundaries[['MSOA21CD', 'geometry']], on='MSOA21CD', how='left')\n",
    "\n"
   ]
  },
  {
   "cell_type": "markdown",
   "metadata": {},
   "source": [
    "#### Match sic codes between registry and activity chains\n",
    "\n",
    "The sic codes in the business registry are numeric. From the [documentation](https://alan-turing-institute.github.io/uatk-spc/understanding_data_sources.html#businessregistry.csv.gz): ` (number corresponding to the letter in alphabetical order)` \n",
    "\n",
    "We need to convert the SIC codes in the activity_chains df to numeric"
   ]
  },
  {
   "cell_type": "code",
   "execution_count": null,
   "metadata": {},
   "outputs": [],
   "source": [
    "business_registry['sic1d07'].unique()"
   ]
  },
  {
   "cell_type": "code",
   "execution_count": null,
   "metadata": {},
   "outputs": [],
   "source": [
    "\n",
    "# create a new column in activity_chains_work that converts sic1d2007 from letter to numeric\n",
    "\n",
    "# ord() returns ascii value of a character. We get values relative to the value of A\n",
    "\n",
    "activity_chains.loc[:, 'sic1d2007_num'] = activity_chains['sic1d2007'].apply(lambda x: ord(x) - ord('A') + 1 if x is not None else 0)\n",
    "activity_chains.head(10)"
   ]
  },
  {
   "cell_type": "code",
   "execution_count": null,
   "metadata": {},
   "outputs": [],
   "source": [
    "# Get the unique values in the 'sic1d2007_num' column\n",
    "unique_values = np.unique(activity_chains_work['sic1d2007_num'])\n",
    "\n",
    "# Create bins from the unique values\n",
    "bins = np.append(unique_values, unique_values[-1] + 1)\n",
    "\n",
    "# Create histogram\n",
    "plt.hist(activity_chains[activity_chains['dact'] == 'work']['sic1d2007_num'], bins=bins, align='left')\n",
    "# Set x-ticks\n",
    "plt.xticks(unique_values)\n",
    "\n",
    "plt.xlabel('SIC 2007 code')\n",
    "plt.ylabel('Number of venues')\n",
    "plt.title('Histogram of SIC 2007 codes')\n",
    "plt.show()"
   ]
  },
  {
   "cell_type": "markdown",
   "metadata": {},
   "source": [
    "## Workplace Assignment\n",
    "\n",
    "The NTS gives us the trip duration, mode, and trip purpose of each activity. We have also calculated a zone to zone travel time matrix by mode. We know the locaiton of people's homes so, for home-based activities, we can use this information to determine the feasible zones for each activity.\n",
    "\n",
    "- Determine activity origin zone, mode, and duration (these are the constraints)\n",
    "- Filter travel time matrix to include only destinations that satisfy all constraints. These are the feasible zones\n",
    "- If there are no feasible zones, select the zone with the closest travel time to the reported duration"
   ]
  },
  {
   "cell_type": "markdown",
   "metadata": {},
   "source": [
    "### Getting feasible zones for each activity"
   ]
  },
  {
   "cell_type": "code",
   "execution_count": null,
   "metadata": {
    "metadata": {}
   },
   "outputs": [],
   "source": [
    "activity_chains_work = activity_chains[activity_chains['dact'] == 'work']\n",
    "activity_chains_work"
   ]
  },
  {
   "cell_type": "code",
   "execution_count": null,
   "metadata": {},
   "outputs": [],
   "source": [
    "possible_zones_work = get_possible_zones(activity_chains=activity_chains_work.iloc[1:100],\n",
    "                                         travel_times=travel_times,\n",
    "                                         activities_per_zone = activities_per_zone,\n",
    "                                         filter_by_activity=True,\n",
    "                                         activity_col= \"dact\",\n",
    "                                         time_tolerance=0.2)\n"
   ]
  },
  {
   "cell_type": "code",
   "execution_count": null,
   "metadata": {},
   "outputs": [],
   "source": [
    "possible_zones_work"
   ]
  },
  {
   "cell_type": "code",
   "execution_count": null,
   "metadata": {},
   "outputs": [],
   "source": [
    "\n",
    "# first 10 rows of activity_chains_work\n",
    "activity_chains_work.iloc[1:10]['dact']"
   ]
  },
  {
   "cell_type": "code",
   "execution_count": null,
   "metadata": {},
   "outputs": [],
   "source": [
    "# Output is a nested dictionary\n",
    "for key in list(possible_zones_school.keys())[:10]:\n",
    "    print(key, ' : ', possible_zones_school[key])"
   ]
  },
  {
   "cell_type": "code",
   "execution_count": null,
   "metadata": {},
   "outputs": [],
   "source": [
    "# save possible_zones_school to dictionary\n",
    "with open('../data/interim/assigning/possible_zones_education.pkl', 'wb') as f:\n",
    "    pkl.dump(possible_zones_school, f)\n"
   ]
  },
  {
   "cell_type": "code",
   "execution_count": null,
   "metadata": {
    "metadata": {}
   },
   "outputs": [],
   "source": [
    "# remove possible_zones_school from environment\n",
    "#del possible_zones_school\n",
    "\n",
    "# read in possible_zones_school\n",
    "possible_zones_school = pd.read_pickle('../data/interim/assigning/possible_zones_education.pkl')\n"
   ]
  },
  {
   "cell_type": "markdown",
   "metadata": {},
   "source": [
    "### Choose a zone for each activity\n",
    "\n",
    "We choose a zone from the feasible zones. For education trips, we use age as an indicator for the type of education facility the individual is most likely to go to. The `age_group_mapping` dictionary maps age groups to education facility types. For each person activity, we use the age_group to determine which education facilities to look at. \n",
    "\n",
    "We then sample probabilistically based on the number of facilities in each zone."
   ]
  },
  {
   "cell_type": "code",
   "execution_count": null,
   "metadata": {},
   "outputs": [],
   "source": [
    "# Apply the function to all rows in activity_chains_example\n",
    "activity_chains_edu['dzone'] = activity_chains_edu.apply(\n",
    "    lambda row: select_zone(\n",
    "        row=row,\n",
    "        possible_zones = possible_zones_school,\n",
    "        activities_per_zone = activities_per_zone,\n",
    "        weighting = \"floor_area\",\n",
    "        zone_id_col = \"OA21CD\"\n",
    "    ),\n",
    "    axis=1\n",
    ")"
   ]
  },
  {
   "cell_type": "code",
   "execution_count": null,
   "metadata": {},
   "outputs": [],
   "source": [
    "activity_chains_edu.head(5)"
   ]
  },
  {
   "cell_type": "code",
   "execution_count": null,
   "metadata": {},
   "outputs": [],
   "source": [
    "# Total rows and number of rows with NA in dzone\n",
    "print(f\"Total rows: {activity_chains_edu.shape[0]}\")\n",
    "print(f\"Number of rows with NA in dzone: {activity_chains_edu[activity_chains_edu['dzone'] == 'NA'].shape[0]}\")\n"
   ]
  },
  {
   "cell_type": "code",
   "execution_count": null,
   "metadata": {},
   "outputs": [],
   "source": [
    "#activity_chains_edu[activity_chains_edu['dzone'] == 'NA']\n",
    "# what is the mode of the rows with NA in dzone\n",
    "activity_chains_edu[activity_chains_edu['dzone'] == 'NA']['mode'].value_counts()"
   ]
  },
  {
   "cell_type": "markdown",
   "metadata": {},
   "source": [
    "Most of the issue seems to be with walking trips. Let's look further"
   ]
  },
  {
   "cell_type": "code",
   "execution_count": null,
   "metadata": {},
   "outputs": [],
   "source": [
    "# Get rows in activity_chains_edu with dzone = NA and mode = walk\n",
    "filtered_data = activity_chains_edu[(activity_chains_edu['dzone'] == 'NA') & (activity_chains_edu['mode'] == 'walk')]\n",
    "\n",
    "# Create bins for TripTotalTime\n",
    "filtered_data['TripTotalTime_bins'] = pd.cut(filtered_data['TripTotalTime'], bins=range(0, int(filtered_data['TripTotalTime'].max()) + 5, 5))\n",
    "\n",
    "# Group by TripTotalTime_bins and education_type\n",
    "grouped_data = filtered_data.groupby(['TripTotalTime_bins', 'education_type']).size()\n",
    "\n",
    "# Remove groups with zero counts\n",
    "grouped_data = grouped_data[grouped_data > 0]\n",
    "\n",
    "# Print the grouped data\n",
    "print(grouped_data)"
   ]
  },
  {
   "cell_type": "markdown",
   "metadata": {},
   "source": [
    "### Fill in missing zones\n",
    "\n",
    "Some activities are not assigned a zone because there is no zone that (a) has the activity, and (b) is reachable using the reprted mode and duration (based on travel_time matrix r5 calculations). For these rows, we fill the zone using times based on euclidian distance and estimated speeds\n",
    "\n"
   ]
  },
  {
   "cell_type": "code",
   "execution_count": null,
   "metadata": {},
   "outputs": [],
   "source": [
    "# Create a mask for rows where 'dzone' is NaN\n",
    "mask = activity_chains_edu['dzone'] == 'NA'\n",
    "\n",
    "# Apply the function to these rows and assign the result back to 'dzone'\n",
    "activity_chains_edu.loc[mask, 'dzone'] = activity_chains_edu.loc[mask].apply(\n",
    "    lambda row: fill_missing_zones(\n",
    "        activity=row,\n",
    "        travel_times_est=travel_time_estimates,\n",
    "        activities_per_zone=activities_per_zone,\n",
    "        activity_col=\"education_type\",\n",
    "    ),\n",
    "    axis=1\n",
    ")"
   ]
  },
  {
   "cell_type": "code",
   "execution_count": null,
   "metadata": {},
   "outputs": [],
   "source": [
    "# Total rows and number of rows with NA in dzone\n",
    "print(f\"Total rows: {activity_chains_edu.shape[0]}\")\n",
    "print(f\"Number of rows with NA in dzone: {activity_chains_edu[activity_chains_edu['dzone'] == 'NA'].shape[0]}\")\n"
   ]
  },
  {
   "cell_type": "markdown",
   "metadata": {},
   "source": [
    " ### Assign activity to point locations\n",
    "\n",
    "After choosing a zone, let's assign the activity to a point location. "
   ]
  },
  {
   "cell_type": "code",
   "execution_count": null,
   "metadata": {},
   "outputs": [],
   "source": [
    "\n",
    "# turn the above into a function\n",
    "def select_activity(row: pd.Series,\n",
    "                    activities_pts: gpd.GeoDataFrame,\n",
    "                    sample_col: str = 'none',\n",
    "                    ) -> pd.Series:\n",
    "    \"\"\"\n",
    "    Select a suitable location for an activity based on the activity purpose and a specific zone\n",
    "\n",
    "    Parameters\n",
    "    ----------\n",
    "    row : pandas.Series\n",
    "        A row from the activity_chains DataFrame\n",
    "    activities_pts : geopandas.GeoDataFrame\n",
    "        A GeoDataFrame containing the activities to sample from\n",
    "    sample_col : str, optional\n",
    "        The column to sample from, by default 'none'.Options are: \"floor_area\", \"none\"\n",
    "\n",
    "\n",
    "    Returns\n",
    "    -------\n",
    "    activity_id : int\n",
    "        The id of the chosen activity\n",
    "    activity_geom : shapely.geometry\n",
    "        The geometry of the chosen activity\n",
    "\n",
    "    \"\"\"\n",
    "    destination_zone = row['dzone']\n",
    "\n",
    "    if destination_zone == 'NA':\n",
    "        # log the error\n",
    "        logging.info(f\"Destination zone is NA for row {row}\")\n",
    "        return pd.Series([np.nan, np.nan])\n",
    "\n",
    "    # filter to activities in the dsired zone\n",
    "    activities_in_zone = activities_pts[activities_pts['OA21CD'] == destination_zone]\n",
    "\n",
    "    if activities_in_zone.empty:\n",
    "        logging.info(f\"No activities in zone {destination_zone}\")\n",
    "        return pd.Series([np.nan, np.nan])\n",
    "\n",
    "\n",
    "    # filter all rows in activities_in_zone where  activities includes the specific activity type\n",
    "    activities_valid = activities_in_zone[activities_in_zone['activities'].apply(lambda x: row['education_type'] in x)]\n",
    "    # if no activities match the exact education type, relax the constraint to just \"education\"\n",
    "    if activities_valid.empty:\n",
    "        logging.info(f\"No activities in zone {destination_zone} with education type {row['education_type']},\\\n",
    "                      Returning activities with education type 'education'\")\n",
    "        activities_valid = activities_in_zone[activities_in_zone['activities'].apply(lambda x: 'education' in x)]\n",
    "        # if still no activities match the education type, return NA\n",
    "        if activities_valid.empty:\n",
    "            logging.info(f\"No activities in zone {destination_zone} with education type 'education'\")\n",
    "            return pd.Series([np.nan, np.nan])\n",
    "\n",
    "    if sample_col == \"floor_area\":\n",
    "        # sample an activity from activities_valid based on the floor_area column\n",
    "        if activities_valid[\"floor_area\"].sum() != 0:\n",
    "            activity = activities_valid.sample(1, weights=activities_valid['floor_area'])\n",
    "        else:\n",
    "            activity = activities_valid.sample(1)\n",
    "    else:\n",
    "        activity = activities_valid.sample(1)\n",
    "\n",
    "    return pd.Series([activity['id'].values[0], activity['geometry'].values[0]])\n"
   ]
  },
  {
   "cell_type": "code",
   "execution_count": null,
   "metadata": {},
   "outputs": [],
   "source": [
    "activity_chains_ex = activity_chains_edu.copy()\n",
    "\n",
    "\n",
    "# apply the function to a row in activity_chains_ex\n",
    "activity_chains_ex[['activity_id', 'activity_geom']] = activity_chains_ex.apply(lambda row: select_activity(row, osm_data_gdf, \"floor_area\"), axis=1)\n",
    "activity_chains_ex.head(10)"
   ]
  },
  {
   "cell_type": "markdown",
   "metadata": {},
   "source": [
    "#### Plot the results"
   ]
  },
  {
   "cell_type": "code",
   "execution_count": null,
   "metadata": {},
   "outputs": [],
   "source": [
    "# For each row in activity_chains_ex, turn the geometry into a linestring: Origin = location and destination = activity_geom\n",
    "from shapely.geometry import LineString\n",
    "\n",
    "activity_chains_plot = activity_chains_ex.copy()\n",
    "# filter to only include rows where activity_geom is not NA\n",
    "activity_chains_plot = activity_chains_plot[activity_chains_plot['activity_geom'].notna()]\n",
    "activity_chains_plot['line_geometry'] = activity_chains_plot.apply(lambda row: LineString([row['location'], row['activity_geom']]), axis=1)\n",
    "# Set the geometry column to 'line_geometry'\n",
    "activity_chains_plot = activity_chains_plot.set_geometry('line_geometry')\n",
    "\n",
    "# add the original crs\n",
    "activity_chains_plot.crs = \"EPSG:4326\"\n",
    "\n",
    "# convert crs to metric\n",
    "activity_chains_plot = activity_chains_plot.to_crs(epsg=3857)\n",
    "# calculate the length of the line_geometry in meters\n",
    "activity_chains_plot['length'] = activity_chains_plot['line_geometry'].length\n",
    "\n",
    "activity_chains_plot.head(10)\n",
    "\n",
    "# convert crs back to 4326\n",
    "activity_chains_plot = activity_chains_plot.to_crs(epsg=4326)\n",
    "\n"
   ]
  },
  {
   "cell_type": "markdown",
   "metadata": {},
   "source": [
    "##### Maps"
   ]
  },
  {
   "cell_type": "code",
   "execution_count": null,
   "metadata": {},
   "outputs": [],
   "source": [
    "import math\n",
    "\n",
    "\n",
    "def plot_activity_chains(activities: pd.DataFrame, activity_type: str, bin_size: int, boundaries: gpd.GeoDataFrame) -> None:\n",
    "    \"\"\"\n",
    "    Plots activity chains for a given activity type, bin size and geographical boundaries.\n",
    "\n",
    "    Parameters:\n",
    "    activities: pd.DataFrame\n",
    "        A DataFrame containing the activities data. Geometry is a LineString.\n",
    "    activity_type: str\n",
    "        The type of activity to plot.\n",
    "    bin_size: int\n",
    "        The size of the bins for the histogram. (in meters)\n",
    "    boundaries: gpd.GeoDataFrame \n",
    "        A GeoDataFrame containing the geographical boundaries for the plot.\n",
    "\n",
    "    Returns:\n",
    "        None    \n",
    "    \"\"\"\n",
    "    activities_subset = activities[activities['education_type'] == activity_type]\n",
    "    # Calculate the number of bins based on the maximum value of 'length'\n",
    "    num_bins = math.ceil(activities_subset['length'].max() / bin_size)\n",
    "\n",
    "    # Calculate the bin edges\n",
    "    bins = np.arange(num_bins + 1) * bin_size\n",
    "\n",
    "    # Create a new column 'length_band' by cutting 'length' into distance bands\n",
    "    activities_subset['length_band'] = pd.cut(activities_subset['length'], bins, include_lowest=True)\n",
    "\n",
    "    # Get unique bands and sort them\n",
    "    bands = activities_subset['length_band'].unique()\n",
    "    bands = sorted(bands, key=lambda x: x.left)\n",
    "\n",
    "    # Calculate the total number of trips\n",
    "    total_trips = len(activities_subset)\n",
    "\n",
    "    # Calculate the number of rows and columns for the subplots\n",
    "    nrows = math.ceil(len(bands) / 3)\n",
    "    ncols = 3\n",
    "\n",
    "    # Create a grid of subplots\n",
    "    fig, axs = plt.subplots(nrows, ncols, figsize=(20, 6 * nrows))\n",
    "\n",
    "    # Flatten axs for easy iteration\n",
    "    axs = axs.flatten()\n",
    "\n",
    "    for ax, band in zip(axs, bands):\n",
    "        # Get the subset for this band\n",
    "        subset_band = activities_subset[activities_subset['length_band'] == band]\n",
    "\n",
    "        # Calculate the percentage of trips in this band\n",
    "        percentage = len(subset_band) / total_trips * 100\n",
    "\n",
    "        # Plot the boundaries\n",
    "        boundaries.plot(ax=ax, color='lightgrey')\n",
    "\n",
    "        # Plot the subset\n",
    "        subset_band.plot(ax=ax, markersize=1)\n",
    "\n",
    "        # Set the title\n",
    "        ax.set_title(f'{activity_type},\\ndistance band: {band},\\nNo. of trips: {len(subset_band)} ({percentage:.2f}%)')\n",
    "\n",
    "    # Remove any unused subplots\n",
    "    for i in range(len(bands), nrows*ncols):\n",
    "        fig.delaxes(axs[i])\n",
    "\n",
    "    plt.tight_layout()\n",
    "    plt.show()"
   ]
  },
  {
   "cell_type": "code",
   "execution_count": null,
   "metadata": {},
   "outputs": [],
   "source": [
    "plot_activity_chains(activity_chains_plot, \"education_kg\", 5000, boundaries)"
   ]
  },
  {
   "cell_type": "code",
   "execution_count": null,
   "metadata": {},
   "outputs": [],
   "source": [
    "plot_activity_chains(activity_chains_plot, \"education_school\", 5000, boundaries)"
   ]
  },
  {
   "cell_type": "code",
   "execution_count": null,
   "metadata": {},
   "outputs": [],
   "source": [
    "plot_activity_chains(activity_chains_plot, \"education_university\", 5000, boundaries)"
   ]
  },
  {
   "cell_type": "markdown",
   "metadata": {},
   "source": [
    "##### Bar Plots"
   ]
  },
  {
   "cell_type": "code",
   "execution_count": null,
   "metadata": {},
   "outputs": [],
   "source": [
    "education_types = activity_chains_plot['education_type'].unique()\n",
    "\n",
    "# Calculate the number of rows needed for the subplot grid\n",
    "nrows = int(np.ceil(len(education_types) / 2))\n",
    "\n",
    "fig, axs = plt.subplots(nrows=nrows, ncols=2, figsize=(20, 8*nrows))\n",
    "\n",
    "# Flatten the axes array to make it easier to iterate over\n",
    "axs = axs.flatten()\n",
    "\n",
    "for ax, education_type in zip(axs, education_types):\n",
    "    subset = activity_chains_plot[activity_chains_plot['education_type'] == education_type]\n",
    "    ax.hist(subset['length'], bins=30, edgecolor='black')\n",
    "    ax.set_title(f'Activity Chain Lengths for {education_type}')\n",
    "    ax.set_xlabel('Length')\n",
    "    ax.set_ylabel('Frequency')\n",
    "\n",
    "# Remove any unused subplots\n",
    "for ax in axs[len(education_types):]:\n",
    "    ax.remove()\n",
    "\n",
    "plt.tight_layout()\n",
    "plt.show()"
   ]
  },
  {
   "cell_type": "code",
   "execution_count": null,
   "metadata": {},
   "outputs": [],
   "source": [
    "activity_chains_plot['length'] = activity_chains_plot['length'] / 1000\n",
    "\n",
    "fig, axs = plt.subplots(1, 2, figsize=(12, 6))\n",
    "\n",
    "# Histogram of 'TripDisIncSW'\n",
    "axs[0].hist(activity_chains_plot['TripDisIncSW'], bins=15, edgecolor='black')\n",
    "axs[0].set_title('TripDisIncSW (NTS)')\n",
    "\n",
    "# Histogram of 'length'\n",
    "axs[1].hist(activity_chains_plot['length'], bins=15, edgecolor='black')\n",
    "axs[1].set_title('Actual Trip Length (After assigning to location)')\n",
    "\n",
    "plt.tight_layout()\n",
    "plt.show()"
   ]
  },
  {
   "cell_type": "markdown",
   "metadata": {},
   "source": [
    "### Logic for assigning people to educational facilities\n",
    "\n",
    "    for each zone \n",
    "        identify individuals with dact = education\n",
    "        for each individual\n",
    "            get feasible zones (TripTotalTime (NTS) - buffer <= travel time to zone <= TripTotalTime (NTS) + buffer)       # Do we use travel time or distance?\n",
    "            if there are feasible zones\n",
    "                if individual_age <= 11\n",
    "                    assign individual to random school in feasible zones where type = primary \n",
    "                else if individual_age <= 16 and individual_age > 11\n",
    "                    assign individual to random school in feasible zones where type = secondary or technical\n",
    "                else if individual_age > 16 and individual_age <= 18\n",
    "                    assign individual to random school in feasible zones where type = college OR university\n",
    "                else\n",
    "                    assign individual to random school in feasible zones where type = college OR university OR technical\n",
    "            else\n",
    "                assign individual to zone with shortest travel time\n",
    "\n",
    "- if I have the total number of people enrolled in secondary, technical, college, and university, I can assign make sure that the number of people matched to each educational facility type matches the actual figures. I would use the total numbers and do sampling without replacement\n",
    "- I could assign to zones and then use pam to assign to a random facility\n",
    "\n",
    "\n",
    "\"All education-related trips from the household travel survey were first split into several groups depending first on the residence area type (see subsubsection 5.1.2) the agent lives in, secondly, on the agent’s gender, and, thirdly, on the age of the individual sample who made the trip (and thus on the category of education facility the individual visited: pre-school or elementary school for children aged 14 or less, high school or technical school for teenagers aged 14 to 18, university for people aged 18 to 30 and various places for agents aged 30 or more. For each of these groups, it was then possible to construct the histogram of the distances separating the education place to the home of the individual samples. Finally, a probability density function corresponding to each histogram was obtained.\" - A synthetic population for the greater São Paulo metropolitan region (Sallard et al 2020)\n"
   ]
  }
 ],
 "metadata": {
  "kernelspec": {
   "display_name": "acbm-7iKwKWLy-py3.10",
   "language": "python",
   "name": "python3"
  },
  "language_info": {
   "codemirror_mode": {
    "name": "ipython",
    "version": 3
   },
   "file_extension": ".py",
   "mimetype": "text/x-python",
   "name": "python",
   "nbconvert_exporter": "python",
   "pygments_lexer": "ipython3",
   "version": "3.11.9"
  }
 },
 "nbformat": 4,
 "nbformat_minor": 2
}
