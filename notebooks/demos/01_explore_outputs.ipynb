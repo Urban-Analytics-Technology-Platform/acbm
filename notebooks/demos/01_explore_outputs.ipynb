{
 "cells": [
  {
   "cell_type": "code",
   "execution_count": null,
   "metadata": {},
   "outputs": [],
   "source": [
    "import os\n",
    "\n",
    "import matplotlib.pyplot as plt\n",
    "import numpy as np\n",
    "import pandas as pd\n",
    "import geopandas as gpd\n",
    "import seaborn as sns\n",
    "\n",
    "import acbm\n",
    "from acbm.validating.plots import plot_comparison, plot_activity_sequence_comparison, plot_intrazonal_trips\n",
    "from acbm.validating.utils import calculate_od_distances, process_sequences\n"
   ]
  },
  {
   "cell_type": "markdown",
   "metadata": {},
   "source": [
    "## 1. Overview figure of AcBM\n",
    "\n",
    "TODO: add some description\n",
    "![acbm](https://urban-analytics-technology-platform.github.io/blog_content/v2_release/acbm_diagram.png)"
   ]
  },
  {
   "cell_type": "markdown",
   "metadata": {},
   "source": [
    "\n",
    "## 2. Read generated activity chains\n",
    "\n",
    "\n",
    "The four outputs from the AcBM pipline are the following files:\n",
    "- `people.csv` (SPC)\n",
    "- `households.csv` (SPC)\n",
    "- TODO: add SPC builder to load people and households\n",
    "- `activities.csv` (AcBM)\n",
    "- `legs.csv` (AcBM (primary), PAM (secondary))\n",
    "- `legs_with_locations.parquet` (AcBM (primary), PAM (secondary))\n",
    "- `plans.xml` (AcBM, PAM): MATSim output include background demographics as extra features"
   ]
  },
  {
   "cell_type": "code",
   "execution_count": null,
   "metadata": {},
   "outputs": [],
   "source": [
    "processed_dir = \"data/processed/activities_pam/\"\n",
    "\n",
    "# People\n",
    "people = pd.read_csv(acbm.root_path / processed_dir / \"people.csv\")\n"
   ]
  },
  {
   "cell_type": "code",
   "execution_count": null,
   "metadata": {},
   "outputs": [],
   "source": [
    "people.head()"
   ]
  },
  {
   "cell_type": "code",
   "execution_count": null,
   "metadata": {},
   "outputs": [],
   "source": [
    "# Households\n",
    "housholds = pd.read_csv(acbm.root_path / processed_dir / \"households.csv\")\n",
    "housholds.head()"
   ]
  },
  {
   "cell_type": "code",
   "execution_count": null,
   "metadata": {},
   "outputs": [],
   "source": [
    "# Activities: (rows are trips wit times, duration and zone (of the activity) and ordinal value for trip within the day)\n",
    "activities = pd.read_csv(acbm.root_path / processed_dir / \"activities.csv\")[[\n",
    "    \"pid\", \"hid\", \"activity\", \"seq\", \"start time\", \"end time\", \"duration\", \"zone\"\n",
    "]]\n",
    "activities"
   ]
  },
  {
   "cell_type": "markdown",
   "metadata": {},
   "source": [
    "## Activities\n",
    "\n",
    "__Rows are activities in a specific location with times, duration and zone (of the activity) and ordinal value for trip within the day__"
   ]
  },
  {
   "cell_type": "code",
   "execution_count": null,
   "metadata": {},
   "outputs": [],
   "source": [
    "\n",
    "activities_ = pd.read_csv(acbm.root_path / processed_dir / \"activities.csv\")[[\n",
    "    \"pid\", \"hid\", \"activity\", \"seq\", \"start time\", \"end time\", \"duration\", \"zone\"\n",
    "]]\n",
    "activities"
   ]
  },
  {
   "cell_type": "markdown",
   "metadata": {},
   "source": [
    "### Legs with locations\n",
    "\n",
    "__Each row is a trip linking activities in a given day for a given person__\n",
    "\n",
    "Notes (TODO: add some more descriptions for noteworthy columns):\n",
    "- location IDs match with the osmox POI geoparquet file downloaded in script `0.1_osmox.py`"
   ]
  },
  {
   "cell_type": "code",
   "execution_count": null,
   "metadata": {},
   "outputs": [],
   "source": [
    "# TODO: Pick two HIDs as examples (person 6 and person 18) if need to have fast runtime\n",
    "\n",
    "legs_with_locations = pd.read_parquet(\n",
    "    acbm.root_path / \"data/processed/activities_pam/legs_with_locations.parquet\"\n",
    ")\n",
    "legs_with_locations[\n",
    "    [\n",
    "        \"pid\",\n",
    "        \"hid\",\n",
    "        \"ozone\",\n",
    "        \"dzone\",\n",
    "        \"origin activity\",\n",
    "        \"destination activity\",\n",
    "        \"mode\",\n",
    "        \"seq\",\n",
    "        \"tst\",\n",
    "        \"tet\",\n",
    "        \"duration\",\n",
    "        \"start_location_id\",\n",
    "        \"end_location_id\",\n",
    "        \"start_location_geometry_wkt\",\n",
    "        \"end_location_geometry_wkt\"\n",
    "    ]\n",
    "]\n",
    "\n",
    "# Add geometries\n",
    "legs_with_locations[\"start_location_geometry\"] = gpd.GeoSeries.from_wkt(legs_with_locations[\"start_location_geometry_wkt\"])\n",
    "legs_with_locations[\"end_location_geometry\"] = gpd.GeoSeries.from_wkt(legs_with_locations[\"end_location_geometry_wkt\"])\n",
    "\n"
   ]
  },
  {
   "cell_type": "code",
   "execution_count": null,
   "metadata": {},
   "outputs": [],
   "source": [
    "from shapely import LineString\n",
    "\n",
    "legs_with_locations[\"geometry\"] = legs_with_locations[\n",
    "    [\"start_location_geometry\", \"end_location_geometry\"]\n",
    "].apply(\n",
    "    lambda row: LineString(\n",
    "        [row[\"start_location_geometry\"], row[\"end_location_geometry\"]]\n",
    "    )\n",
    "    if row[\"start_location_geometry\"] is not None\n",
    "    and row[\"end_location_geometry\"] is not None\n",
    "    else pd.NA,\n",
    "    axis=1,\n",
    ")\n"
   ]
  },
  {
   "cell_type": "code",
   "execution_count": null,
   "metadata": {},
   "outputs": [],
   "source": [
    "# Load boundaries\n",
    "boundaries = gpd.read_file(\n",
    "    acbm.root_path / \"data/external/boundaries\" / \"oa_england.geojson\",\n",
    "    where=\"MSOA21NM LIKE '%Leeds%'\",\n",
    ").to_crs(\"epsg:4326\")\n"
   ]
  },
  {
   "cell_type": "code",
   "execution_count": null,
   "metadata": {},
   "outputs": [],
   "source": [
    "geo_legs_with_locations = gpd.GeoDataFrame(legs_with_locations, crs=\"epsg:4326\")"
   ]
  },
  {
   "cell_type": "code",
   "execution_count": null,
   "metadata": {},
   "outputs": [],
   "source": [
    "# generate subset and distinct dataframes from start, end, trip\n",
    "hids = [3, 7]\n",
    "pids = [6, 18]\n",
    "# hids = range(1, 100)\n",
    "# pids = range(1, 100)\n",
    "\n",
    "legs_subset = geo_legs_with_locations[geo_legs_with_locations[\"hid\"].isin(hids)]\n",
    "start = legs_subset[[\"pid\", \"hid\", \"start_location_geometry\", \"origin activity\", \"seq\"]]\n",
    "end = legs_subset[[\"pid\", \"hid\", \"end_location_geometry\", \"destination activity\"]]\n",
    "trips = legs_subset[[\"pid\", \"hid\", \"geometry\", \"mode\", \"seq\"]]\n",
    "\n",
    "modes = trips[\"mode\"].unique()  # Collect all unique modes\n",
    "colormap = plt.colormaps.get_cmap(\"Dark2\")  # Generate a colormap\n",
    "mode_colors = {mode: colormap(i) for i, mode in enumerate(modes)}  # Map modes to colors\n",
    "activities_unique = start[\"origin activity\"].unique()  # Collect all unique modes\n",
    "colormap = plt.colormaps.get_cmap(\"Accent\")  # Generate a colormap\n",
    "act_colors = {act: colormap(i) for i, act in enumerate(activities_unique)}  # Map modes to colors"
   ]
  },
  {
   "cell_type": "code",
   "execution_count": null,
   "metadata": {},
   "outputs": [],
   "source": [
    "activities_unique"
   ]
  },
  {
   "cell_type": "code",
   "execution_count": null,
   "metadata": {},
   "outputs": [],
   "source": [
    "# TODO: next steps\n",
    "# - add legend\n",
    "# - add time as title of subplot\n",
    "# - explore other trips\n",
    "# - try animation (see e.g. https://matplotlib.org/stable/api/animation_api.html)\n",
    "# - label nodes (work, home, etc)\n",
    "# - timestamp/seq on nodes, duration text on edges\n",
    "# - add arrows for linestrings (e.g. see https://stackoverflow.com/a/77558203)\n",
    "\n",
    "import matplotlib.pyplot as plt\n",
    "\n",
    "for hid in start[\"hid\"].unique():\n",
    "    for pid in start[start[\"hid\"].eq(hid)][\"pid\"].unique():\n",
    "        print(hid, pid)\n",
    "        start_p = start[start[\"pid\"].eq(pid)]\n",
    "        end_p = end[end[\"pid\"].eq(pid)]\n",
    "        trips_p = trips[trips[\"pid\"].eq(pid)]\n",
    "\n",
    "        fig, ax = plt.subplots(1, trips_p[\"seq\"].unique().shape[0])\n",
    "        fig.set_size_inches(15, 10)\n",
    "        for i, seq in enumerate(trips_p[\"seq\"]):\n",
    "            boundaries.plot(ax=ax[i], color=\"lightgrey\")\n",
    "            start_p.set_geometry(\"start_location_geometry\").plot(ax=ax[i], color=start_p[\"origin activity\"].map(act_colors))\n",
    "            end_p.set_geometry(\"end_location_geometry\").plot(ax=ax[i], color=end_p[\"destination activity\"].map(act_colors))\n",
    "\n",
    "            if trips_p[trips_p[\"seq\"].lt(seq)].shape[0] > 0:\n",
    "                trips_p[trips_p[\"seq\"].lt(seq)].plot(ax=ax[i], color=trips_p[\"mode\"].map(mode_colors), alpha=0.1)\n",
    "            trips_p[trips_p[\"seq\"].eq(seq)].plot(ax=ax[i], color=trips_p[\"mode\"].map(mode_colors), alpha=1.0)\n",
    "            # print(start_p)\n",
    "            # print(end_p)\n",
    "            # print(trips_p)\n",
    "            ax[i].set_title(\"title\", fontsize=\"medium\")\n",
    "            ax[i].axis(\"off\")\n",
    "        plt.show()"
   ]
  },
  {
   "cell_type": "markdown",
   "metadata": {},
   "source": [
    "# Read MATSim XML\n",
    "\n",
    "Output of AcBM is converted to MATSim XML format using PAM for downstream travel demand or agent based modelling. An example of the output from AcBM for two people is shown below:\n",
    "\n",
    "```xml\n",
    "<?xml version='1.0' encoding='utf-8'?>\n",
    "<!DOCTYPE population SYSTEM \"http://matsim.org/files/dtd/population_v6.dtd\">\n",
    "\n",
    "<population>\n",
    "\n",
    "<!-- ====================================================================== -->\n",
    "\n",
    "<person id=\"6\">\n",
    "  <attributes>\n",
    "    <attribute class=\"java.lang.String\" name=\"hzone\">E00059032</attribute>\n",
    "    <attribute class=\"java.lang.Integer\" name=\"age_years\">82</attribute>\n",
    "    <attribute class=\"java.lang.Integer\" name=\"hid\">3</attribute>\n",
    "  </attributes>\n",
    "  <plan selected=\"yes\">\n",
    "    <activity type=\"home\" start_time=\"00:00:00\" end_time=\"10:47:13\" x=\"-1.3876467539043311\" y=\"53.932630464963154\"/>\n",
    "    <leg mode=\"car\" trav_time=\"00:30:00\"/>\n",
    "    <activity type=\"other\" start_time=\"11:17:13\" end_time=\"12:45:33\" x=\"-1.538353198422133\" y=\"53.79629354711603\"/>\n",
    "    <leg mode=\"car\" trav_time=\"00:20:00\"/>\n",
    "    <activity type=\"home\" start_time=\"13:05:33\" end_time=\"14:42:43\" x=\"-1.3876467539043311\" y=\"53.932630464963154\"/>\n",
    "    <leg mode=\"car\" trav_time=\"00:30:00\"/>\n",
    "    <activity type=\"escort\" start_time=\"15:12:43\" end_time=\"15:31:17\" x=\"-1.563287162580116\" y=\"53.799973062659674\"/>\n",
    "    <leg mode=\"car\" trav_time=\"00:20:00\"/>\n",
    "    <activity type=\"home\" start_time=\"15:51:17\" end_time=\"17:51:05\" x=\"-1.3876467539043311\" y=\"53.932630464963154\"/>\n",
    "    <leg mode=\"car\" trav_time=\"00:20:00\"/>\n",
    "    <activity type=\"escort\" start_time=\"18:11:05\" end_time=\"18:22:37\" x=\"-1.5632552968608024\" y=\"53.791411442268775\"/>\n",
    "    <leg mode=\"car\" trav_time=\"00:25:00\"/>\n",
    "    <activity type=\"home\" start_time=\"18:47:37\" end_time=\"24:00:00\" x=\"-1.3876467539043311\" y=\"53.932630464963154\"/>\n",
    "  </plan>\n",
    "</person>\n",
    "\n",
    "<person id=\"18\">\n",
    "  <attributes>\n",
    "    <attribute class=\"java.lang.String\" name=\"hzone\">E00058996</attribute>\n",
    "    <attribute class=\"java.lang.Integer\" name=\"age_years\">16</attribute>\n",
    "    <attribute class=\"java.lang.Integer\" name=\"hid\">7</attribute>\n",
    "  </attributes>\n",
    "  <plan selected=\"yes\">\n",
    "    <activity type=\"home\" start_time=\"00:00:00\" end_time=\"06:28:37\" x=\"-1.406723232210051\" y=\"53.92058549090443\"/>\n",
    "    <leg mode=\"car\" trav_time=\"00:15:00\"/>\n",
    "    <activity type=\"work\" start_time=\"06:43:37\" end_time=\"18:28:06\" x=\"-1.5264036491984252\" y=\"53.85154477436126\"/>\n",
    "    <leg mode=\"car\" trav_time=\"00:15:00\"/>\n",
    "    <activity type=\"home\" start_time=\"18:43:06\" end_time=\"24:00:00\" x=\"-1.406723232210051\" y=\"53.92058549090443\"/>\n",
    "  </plan>\n",
    "</person>\n",
    "<!-- ====================================================================== -->\n",
    "\n",
    "</population>\n",
    "```"
   ]
  }
 ],
 "metadata": {
  "kernelspec": {
   "display_name": ".venv",
   "language": "python",
   "name": "python3"
  },
  "language_info": {
   "codemirror_mode": {
    "name": "ipython",
    "version": 3
   },
   "file_extension": ".py",
   "mimetype": "text/x-python",
   "name": "python",
   "nbconvert_exporter": "python",
   "pygments_lexer": "ipython3",
   "version": "3.11.9"
  }
 },
 "nbformat": 4,
 "nbformat_minor": 2
}
